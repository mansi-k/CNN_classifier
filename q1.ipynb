{
  "nbformat": 4,
  "nbformat_minor": 0,
  "metadata": {
    "colab": {
      "name": "dl3_q1.ipynb",
      "provenance": [],
      "collapsed_sections": []
    },
    "kernelspec": {
      "name": "python3",
      "display_name": "Python 3"
    },
    "language_info": {
      "name": "python"
    },
    "accelerator": "GPU"
  },
  "cells": [
    {
      "cell_type": "code",
      "metadata": {
        "colab": {
          "base_uri": "https://localhost:8080/"
        },
        "id": "875y1s6eJRf0",
        "outputId": "1b04939a-9580-4eab-8d5a-27ec33c5f447"
      },
      "source": [
        "from google.colab import drive\n",
        "drive.mount('/content/drive', force_remount=True)\n",
        "# !pwd\n",
        "%cd /content/drive/MyDrive/dl_asnmt3/\n",
        "!pwd\n",
        "# !ls"
      ],
      "execution_count": null,
      "outputs": [
        {
          "output_type": "stream",
          "text": [
            "Mounted at /content/drive\n",
            "/content/drive/MyDrive/dl_asnmt3\n",
            "/content/drive/MyDrive/dl_asnmt3\n"
          ],
          "name": "stdout"
        }
      ]
    },
    {
      "cell_type": "code",
      "metadata": {
        "id": "T6qDCHqntLRE"
      },
      "source": [
        "import torch\n",
        "import torch.nn as nn\n",
        "import torchvision\n",
        "import numpy as np\n",
        "import matplotlib.pyplot as plt\n",
        "import torch.nn as nn\n",
        "import torch.nn.functional as F\n",
        "from torchvision.datasets import CIFAR10\n",
        "from torchvision.transforms import *\n",
        "from torchvision.utils import make_grid\n",
        "from torch.utils.data.dataloader import DataLoader\n",
        "from torch.utils.data import random_split\n",
        "import os\n",
        "import time\n",
        "import gc\n",
        "import shutil\n",
        "import h5py\n",
        "from sklearn.preprocessing import OneHotEncoder\n",
        "%matplotlib inline"
      ],
      "execution_count": null,
      "outputs": []
    },
    {
      "cell_type": "code",
      "metadata": {
        "colab": {
          "base_uri": "https://localhost:8080/"
        },
        "id": "IJ_ubjIwJ-Mi",
        "outputId": "8a90de31-5506-457c-c48b-84191a05d950"
      },
      "source": [
        "transform = transforms.Compose([transforms.ToTensor(),\n",
        "     transforms.Normalize((0.5, 0.5, 0.5), (0.5, 0.5, 0.5))])\n",
        "os.makedirs(\"data/cifar\", exist_ok=True)\n",
        "train_dataset = CIFAR10(root='data/cifar', download=True, transform=transform)\n",
        "test_dataset = CIFAR10(root='data/cifar', train=False, transform=transform)\n",
        "print(len(train_dataset), len(test_dataset))"
      ],
      "execution_count": null,
      "outputs": [
        {
          "output_type": "stream",
          "text": [
            "Files already downloaded and verified\n",
            "50000 10000\n"
          ],
          "name": "stdout"
        }
      ]
    },
    {
      "cell_type": "code",
      "metadata": {
        "id": "LtxZzDcnYAGS"
      },
      "source": [
        "device = torch.device(\"cuda\" if torch.cuda.is_available() else \"cpu\")\n",
        "\n",
        "def save_checkpoint(state, is_best, epoch, name):\n",
        "    filename = 'q1_checkpoints/q1_ckpt_'+name\n",
        "    torch.save(state, filename)\n",
        "    if is_best:\n",
        "        shutil.copyfile(filename, filename+'_best')\n",
        "\n",
        "def test_model(device, model_class, ckpt, test_data):\n",
        "    model = model_class().cuda()\n",
        "    print(model)\n",
        "    checkpoint = torch.load('q1_checkpoints/'+ckpt)\n",
        "    model.load_state_dict(checkpoint['model_state_dict'])\n",
        "    test_loader = DataLoader(test_data, 64, num_workers=2, pin_memory=True)  \n",
        "    sm = nn.Softmax(dim=1)  \n",
        "    total_correct = 0\n",
        "    total_images = 0\n",
        "    model.eval()        \n",
        "    for i, (inputs, labels) in enumerate(test_loader):\n",
        "        inputs = inputs.to(device)\n",
        "        labels = labels.to(device)\n",
        "        with torch.set_grad_enabled(False):\n",
        "            outputs = model(inputs)\n",
        "            sm_outputs = sm(outputs)\n",
        "            outputs = torch.argmax(outputs, dim=1)\n",
        "            total_correct += (outputs == labels).sum().item()\n",
        "            total_images += len(labels)\n",
        "        torch.cuda.empty_cache()\n",
        "        gc.collect()\n",
        "    model_accuracy = total_correct / total_images * 100\n",
        "    return model_accuracy\n",
        "\n",
        "def plot_train(losses, errors):\n",
        "    plt.plot(range(len(losses)), losses, label = \"Train loss\", color='blue')#, markersize=5, marker='o',markerfacecolor='blue')\n",
        "    plt.plot(range(len(errors)), errors, label = \"Val loss\", color='red')#, markersize=5, marker='o',markerfacecolor='red')\n",
        "    plt.xlabel('Epochs')\n",
        "    plt.ylabel('Loss')\n",
        "    plt.title('Train vs Val loss')\n",
        "    plt.legend()\n",
        "    plt.show()"
      ],
      "execution_count": null,
      "outputs": []
    },
    {
      "cell_type": "markdown",
      "metadata": {
        "id": "E-QtzxqBYv-R"
      },
      "source": [
        "## Common Trainer class"
      ]
    },
    {
      "cell_type": "code",
      "metadata": {
        "id": "LKyYDljEIkDx"
      },
      "source": [
        "class CNN_Trainer(object):\n",
        "    def __init__(self, device, model_class, ckpt_name, load_ckpt=None, epochs=20, batch_size=128, lr=0.001, optm='sgd', lr_decay=None, weight_decay=0, trainset=train_dataset, valset=test_dataset):\n",
        "        self.device = device\n",
        "        self.lr =  lr\n",
        "        self.momentum = 0.9\n",
        "        self.lr_decay = lr_decay\n",
        "        self.weight_decay = weight_decay\n",
        "        self.batch_size = batch_size\n",
        "        self.start_epoch = 0\n",
        "        self.epochs = epochs\n",
        "        self.workers = 2\n",
        "        self.seed = int(time.time())\n",
        "        self.print_freq = 1\n",
        "        self.checkpoint_path = load_ckpt #'q1_checkpoints/q1_ckpt_CNN_a_best2'\n",
        "        self.best_error = 1e8\n",
        "        self.best_epoch = 0\n",
        "        self.ckpt_name = ckpt_name\n",
        "        self.loss_history = []\n",
        "        self.error_history = []\n",
        "        self.trainset = trainset\n",
        "        self.valset = valset\n",
        "        torch.cuda.manual_seed(self.seed)\n",
        "        print(self.device,torch.cuda.get_device_name(0))\n",
        "\n",
        "        self.model = model_class().cuda()\n",
        "        # print(self.model)\n",
        "        if optm=='sgd':\n",
        "            self.optimizer = torch.optim.SGD(self.model.parameters(), self.lr, momentum=self.momentum, weight_decay=self.weight_decay)\n",
        "        elif optm=='adam':\n",
        "            self.optimizer = torch.optim.Adam(self.model.parameters(), self.lr)\n",
        "        self.criterion = nn.CrossEntropyLoss().cuda()\n",
        "        \n",
        "        if self.checkpoint_path:\n",
        "            checkpoint = torch.load('q1_checkpoints/'+self.checkpoint_path)\n",
        "            self.model.load_state_dict(checkpoint['model_state_dict'])\n",
        "            self.optimizer.load_state_dict(checkpoint['optimizer_state_dict'])\n",
        "            self.start_epoch = checkpoint['epoch']+1\n",
        "            loss = checkpoint['loss']\n",
        "            self.best_error = checkpoint['best_error']\n",
        "            self.best_epoch = checkpoint['best_epoch']\n",
        "        \n",
        "    def train(self):\n",
        "        for epoch in range(self.start_epoch, self.epochs):\n",
        "            loss = self.train_epoch(epoch)\n",
        "            if epoch%1 != 0:\n",
        "                print('Epoch:'+str(epoch),'  Loss:'+str(round(loss,3)))\n",
        "                continue\n",
        "            error = self.validate(epoch)\n",
        "            if error < self.best_error:\n",
        "                is_best = True\n",
        "                self.best_epoch = epoch\n",
        "            else:\n",
        "                is_best = False\n",
        "            self.loss_history.append(loss)\n",
        "            self.error_history.append(error)\n",
        "            self.best_error = min(error, self.best_error)\n",
        "            print('Epoch:'+str(epoch),'  Loss:'+str(round(loss,3)),'  Val error:'+str(round(error,3)),'  Best val error:'+str(round(self.best_error,3)))\n",
        "            save_checkpoint({\n",
        "                'epoch': epoch,\n",
        "                'model_state_dict': self.model.state_dict(),\n",
        "                'optimizer_state_dict': self.optimizer.state_dict(),\n",
        "                'loss': loss,\n",
        "                'best_error': self.best_error,\n",
        "                'best_epoch': self.best_epoch\n",
        "            }, is_best, epoch, self.ckpt_name)\n",
        "            if self.lr_decay and epoch-self.best_epoch>2:\n",
        "                self.adjust_learning_rate(epoch)\n",
        "        return self.best_epoch, self.loss_history, self.error_history\n",
        "\n",
        "    def train_epoch(self, cur_epoch):\n",
        "        train_loader = DataLoader(self.trainset, self.batch_size, shuffle=True, num_workers=self.workers, pin_memory=True)        \n",
        "        self.model.train()        \n",
        "        losses = 0\n",
        "        for i, (inputs, labels) in enumerate(train_loader):\n",
        "            inputs = inputs.to(self.device)\n",
        "            labels = labels.to(self.device)\n",
        "            with torch.set_grad_enabled(True):\n",
        "                outputs = self.model(inputs)\n",
        "                loss = self.criterion(outputs, labels)\n",
        "                losses += loss.detach().cpu().item()\n",
        "                self.optimizer.zero_grad()\n",
        "                loss.backward()\n",
        "                self.optimizer.step()\n",
        "            torch.cuda.empty_cache()\n",
        "            gc.collect()\n",
        "        return losses/len(train_loader)\n",
        "\n",
        "    def validate(self, cur_epoch):\n",
        "        val_loader = DataLoader(self.valset, self.batch_size, num_workers=self.workers, pin_memory=True)        \n",
        "        self.model.eval()        \n",
        "        errors = 0\n",
        "        for i, (inputs, labels) in enumerate(val_loader):\n",
        "            inputs = inputs.to(self.device)\n",
        "            labels = labels.to(self.device)\n",
        "            with torch.set_grad_enabled(False):\n",
        "                outputs = self.model(inputs)\n",
        "                error = self.criterion(outputs, labels)\n",
        "                errors += error.detach().cpu().item()\n",
        "            torch.cuda.empty_cache()\n",
        "            gc.collect()\n",
        "        return errors/len(val_loader)\n",
        "\n",
        "    def adjust_learning_rate(self, epoch):\n",
        "        for param_group in self.optimizer.param_groups:\n",
        "            param_group['lr'] *= self.lr_decay\n",
        "            print('LR adjusted')"
      ],
      "execution_count": null,
      "outputs": []
    },
    {
      "cell_type": "markdown",
      "metadata": {
        "id": "VH_pcb2hkA0D"
      },
      "source": [
        "# Baseline model \n",
        "--> 1 block of : Conv2D -> BatchNorm2D -> MaxPooling2D  \n",
        "--> 1 dense layer  \n",
        "--> ReLU activations  \n",
        "  \n",
        "Feature map size calculations are shown in the figure"
      ]
    },
    {
      "cell_type": "code",
      "metadata": {
        "id": "XIqnz10RkLww"
      },
      "source": [
        "class CNN_base(nn.Module):\n",
        "    def __init__(self):\n",
        "        super(CNN_base, self).__init__()\n",
        "        self.convLayers = nn.Sequential(\n",
        "            # block 1\n",
        "            nn.Conv2d(in_channels=3, out_channels=64, kernel_size=3, padding=1),\n",
        "            nn.BatchNorm2d(64),\n",
        "            nn.ReLU(inplace=True),\n",
        "            nn.MaxPool2d(kernel_size=2, stride=2) # 16x16x64 = 16384\n",
        "        )\n",
        "        self.denseLayers = nn.Sequential(\n",
        "            nn.Linear(16384, 10)\n",
        "        )\n",
        "\n",
        "    def forward(self,x):\n",
        "        x = self.convLayers(x)\n",
        "        x = torch.flatten(x, start_dim=1)\n",
        "        # print('after conv',x.shape)\n",
        "        x = self.denseLayers(x)\n",
        "        return x"
      ],
      "execution_count": null,
      "outputs": []
    },
    {
      "cell_type": "code",
      "metadata": {
        "colab": {
          "base_uri": "https://localhost:8080/",
          "height": 669
        },
        "id": "qxZXvSfmk74p",
        "outputId": "f2136962-b46a-417b-93e6-4d0fdc519954"
      },
      "source": [
        "cnnbase_trainer = CNN_Trainer(device, CNN_base, 'CNN_base', lr=0.001)\n",
        "base_best_epoch, base_losses, base_errors = cnnbase_trainer.train()\n",
        "plot_train(base_losses, base_errors)\n",
        "print('Best epoch:',base_best_epoch)"
      ],
      "execution_count": null,
      "outputs": [
        {
          "output_type": "stream",
          "text": [
            "cuda Tesla T4\n",
            "Epoch:0   Loss:1.512   Val error:1.269   Best val error:1.269\n",
            "Epoch:1   Loss:1.205   Val error:1.194   Best val error:1.194\n",
            "Epoch:2   Loss:1.081   Val error:1.113   Best val error:1.113\n",
            "Epoch:3   Loss:1.007   Val error:1.099   Best val error:1.099\n",
            "Epoch:4   Loss:0.944   Val error:1.134   Best val error:1.099\n",
            "Epoch:5   Loss:0.903   Val error:1.061   Best val error:1.061\n",
            "Epoch:6   Loss:0.861   Val error:1.059   Best val error:1.059\n",
            "Epoch:7   Loss:0.83   Val error:1.111   Best val error:1.059\n",
            "Epoch:8   Loss:0.794   Val error:1.09   Best val error:1.059\n",
            "Epoch:9   Loss:0.769   Val error:1.044   Best val error:1.044\n",
            "Epoch:10   Loss:0.747   Val error:1.057   Best val error:1.044\n",
            "Epoch:11   Loss:0.724   Val error:1.048   Best val error:1.044\n",
            "Epoch:12   Loss:0.706   Val error:1.083   Best val error:1.044\n",
            "Epoch:13   Loss:0.693   Val error:1.075   Best val error:1.044\n",
            "Epoch:14   Loss:0.661   Val error:1.033   Best val error:1.033\n",
            "Epoch:15   Loss:0.662   Val error:1.053   Best val error:1.033\n",
            "Epoch:16   Loss:0.637   Val error:1.056   Best val error:1.033\n",
            "Epoch:17   Loss:0.625   Val error:1.097   Best val error:1.033\n",
            "Epoch:18   Loss:0.606   Val error:1.15   Best val error:1.033\n",
            "Epoch:19   Loss:0.592   Val error:1.066   Best val error:1.033\n"
          ],
          "name": "stdout"
        },
        {
          "output_type": "display_data",
          "data": {
            "image/png": "[encoded data removed]",
            "text/plain": [
              "<Figure size 432x288 with 1 Axes>"
            ]
          },
          "metadata": {
            "tags": [],
            "needs_background": "light"
          }
        },
        {
          "output_type": "stream",
          "text": [
            "Best epoch: 14\n"
          ],
          "name": "stdout"
        }
      ]
    },
    {
      "cell_type": "markdown",
      "metadata": {
        "id": "079ecWiEfwmB"
      },
      "source": [
        "From the graph we can see that after 6th epoch the train loss decreases but validation loss starts increasing. It means at this point the model starts to overfit the train data and is not able to generalize well"
      ]
    },
    {
      "cell_type": "code",
      "metadata": {
        "colab": {
          "base_uri": "https://localhost:8080/"
        },
        "id": "ZHzTZyWNk80y",
        "outputId": "8aebee80-efcd-4a29-cdff-9837bc628281"
      },
      "source": [
        "base_acc = test_model(device, CNN_base, 'q1_ckpt_CNN_base_best', test_dataset)\n",
        "print('Test accuracy:',base_acc,'%')"
      ],
      "execution_count": null,
      "outputs": [
        {
          "output_type": "stream",
          "text": [
            "CNN_base(\n",
            "  (convLayers): Sequential(\n",
            "    (0): Conv2d(3, 64, kernel_size=(3, 3), stride=(1, 1), padding=(1, 1))\n",
            "    (1): BatchNorm2d(64, eps=1e-05, momentum=0.1, affine=True, track_running_stats=True)\n",
            "    (2): ReLU(inplace=True)\n",
            "    (3): MaxPool2d(kernel_size=2, stride=2, padding=0, dilation=1, ceil_mode=False)\n",
            "  )\n",
            "  (denseLayers): Sequential(\n",
            "    (0): Linear(in_features=16384, out_features=10, bias=True)\n",
            "  )\n",
            ")\n",
            "Test accuracy: 65.96 %\n"
          ],
          "name": "stdout"
        }
      ]
    },
    {
      "cell_type": "markdown",
      "metadata": {
        "id": "gFL9Qm-Qlk9n"
      },
      "source": [
        "# A1) Without BatchNorm\n",
        "--> 1 block of : Conv2D -> MaxPooling2D  \n",
        "--> 1 dense layer  \n",
        "--> ReLU activations"
      ]
    },
    {
      "cell_type": "code",
      "metadata": {
        "id": "GkB4FzVDlkb7"
      },
      "source": [
        "class CNN_a(nn.Module):\n",
        "    def __init__(self):\n",
        "        super(CNN_a, self).__init__()\n",
        "        self.convLayers = nn.Sequential(\n",
        "            # block 1\n",
        "            nn.Conv2d(in_channels=3, out_channels=64, kernel_size=3, padding=1),\n",
        "            nn.ReLU(inplace=True),\n",
        "            nn.MaxPool2d(kernel_size=2, stride=2) # 16x16x64 = 16384\n",
        "        )\n",
        "        self.denseLayers = nn.Sequential(\n",
        "            nn.Linear(16384, 10)\n",
        "        )\n",
        "\n",
        "    def forward(self,x):\n",
        "        x = self.convLayers(x)\n",
        "        x = torch.flatten(x, start_dim=1)\n",
        "        # print('after conv',x.shape)\n",
        "        x = self.denseLayers(x)\n",
        "        return x"
      ],
      "execution_count": null,
      "outputs": []
    },
    {
      "cell_type": "code",
      "metadata": {
        "colab": {
          "base_uri": "https://localhost:8080/",
          "height": 669
        },
        "id": "jSzkf138mEKS",
        "outputId": "9f8f147e-bbf8-424a-a7d6-edafd43b8bbe"
      },
      "source": [
        "cnna_trainer = CNN_Trainer(device, CNN_a, 'CNN_a', lr=0.001)\n",
        "a_best_epoch, a_losses, a_errors = cnna_trainer.train()\n",
        "plot_train(a_losses, a_errors)\n",
        "print('Best epoch:',a_best_epoch)"
      ],
      "execution_count": null,
      "outputs": [
        {
          "output_type": "stream",
          "text": [
            "cuda Tesla T4\n",
            "Epoch:0   Loss:1.785   Val error:1.613   Best val error:1.613\n",
            "Epoch:1   Loss:1.549   Val error:1.479   Best val error:1.479\n",
            "Epoch:2   Loss:1.425   Val error:1.4   Best val error:1.4\n",
            "Epoch:3   Loss:1.344   Val error:1.333   Best val error:1.333\n",
            "Epoch:4   Loss:1.287   Val error:1.291   Best val error:1.291\n",
            "Epoch:5   Loss:1.245   Val error:1.266   Best val error:1.266\n",
            "Epoch:6   Loss:1.209   Val error:1.229   Best val error:1.229\n",
            "Epoch:7   Loss:1.183   Val error:1.211   Best val error:1.211\n",
            "Epoch:8   Loss:1.156   Val error:1.194   Best val error:1.194\n",
            "Epoch:9   Loss:1.133   Val error:1.185   Best val error:1.185\n",
            "Epoch:10   Loss:1.115   Val error:1.163   Best val error:1.163\n",
            "Epoch:11   Loss:1.097   Val error:1.155   Best val error:1.155\n",
            "Epoch:12   Loss:1.079   Val error:1.138   Best val error:1.138\n",
            "Epoch:13   Loss:1.062   Val error:1.128   Best val error:1.128\n",
            "Epoch:14   Loss:1.045   Val error:1.126   Best val error:1.126\n",
            "Epoch:15   Loss:1.03   Val error:1.111   Best val error:1.111\n",
            "Epoch:16   Loss:1.014   Val error:1.099   Best val error:1.099\n",
            "Epoch:17   Loss:0.999   Val error:1.1   Best val error:1.099\n",
            "Epoch:18   Loss:0.986   Val error:1.078   Best val error:1.078\n",
            "Epoch:19   Loss:0.972   Val error:1.076   Best val error:1.076\n"
          ],
          "name": "stdout"
        },
        {
          "output_type": "display_data",
          "data": {
            "image/png": "[encoded data removed]",
            "text/plain": [
              "<Figure size 432x288 with 1 Axes>"
            ]
          },
          "metadata": {
            "tags": [],
            "needs_background": "light"
          }
        },
        {
          "output_type": "stream",
          "text": [
            "Best epoch: 19\n"
          ],
          "name": "stdout"
        }
      ]
    },
    {
      "cell_type": "code",
      "metadata": {
        "colab": {
          "base_uri": "https://localhost:8080/"
        },
        "id": "ZhPgOCgNmW1_",
        "outputId": "58b720bf-d6c7-446f-d334-53f5bdda4cb4"
      },
      "source": [
        "a_acc = test_model(device, CNN_a, 'q1_ckpt_CNN_a_best', test_dataset)\n",
        "print('Test accuracy:',a_acc,'%')"
      ],
      "execution_count": null,
      "outputs": [
        {
          "output_type": "stream",
          "text": [
            "CNN_a(\n",
            "  (convLayers): Sequential(\n",
            "    (0): Conv2d(3, 64, kernel_size=(3, 3), stride=(1, 1), padding=(1, 1))\n",
            "    (1): ReLU(inplace=True)\n",
            "    (2): MaxPool2d(kernel_size=2, stride=2, padding=0, dilation=1, ceil_mode=False)\n",
            "  )\n",
            "  (denseLayers): Sequential(\n",
            "    (0): Linear(in_features=16384, out_features=10, bias=True)\n",
            "  )\n",
            ")\n",
            "Test accuracy: 62.7 %\n"
          ],
          "name": "stdout"
        }
      ]
    },
    {
      "cell_type": "markdown",
      "metadata": {
        "id": "DI4g7sjMiHF5"
      },
      "source": [
        "We can see that both train and validation loss are higher than the ones using batch-normalization. This is because of the presence of internal covariate shift (input ot the model is slightly different every time as batches are random samples of train dataset).  \n",
        "The benefits of batch-normalization are:  \n",
        "--> It ensures that the inputs have a mean of 0 and a standard deviation of 1, meaning that the input distribution to every neuron will be the same, thereby fixing the problem of internal covariate shift and providing regularisation.  \n",
        "--> It prevents vanishing and exploding gradients by ensuring that no weight has gone too high or low.  \n",
        "--> It has a regularising effect since it adds noise to the inputs of every layer thus discouraging overfitting.\n"
      ]
    },
    {
      "cell_type": "markdown",
      "metadata": {
        "id": "FDDWhy7hmTq_"
      },
      "source": [
        "# A2) With AvgPooling  \n",
        "--> 1 block of : Conv2D -> BatchNorm2D -> MaxPooling2D  \n",
        "--> 1 dense layer  \n",
        "--> ReLU activations  "
      ]
    },
    {
      "cell_type": "code",
      "metadata": {
        "id": "8KXtYdp2mTNe"
      },
      "source": [
        "class CNN_a2(nn.Module):\n",
        "    def __init__(self):\n",
        "        super(CNN_a2, self).__init__()\n",
        "        self.convLayers = nn.Sequential(\n",
        "            # block 1\n",
        "            nn.Conv2d(in_channels=3, out_channels=64, kernel_size=3, padding=1),\n",
        "            nn.BatchNorm2d(64),\n",
        "            nn.ReLU(inplace=True),\n",
        "            nn.AvgPool2d(kernel_size=2, stride=2) # 16x16x64 = 16384\n",
        "        )\n",
        "        self.denseLayers = nn.Sequential(\n",
        "            nn.Linear(16384, 10)\n",
        "        )\n",
        "\n",
        "    def forward(self,x):\n",
        "        x = self.convLayers(x)\n",
        "        x = torch.flatten(x, start_dim=1)\n",
        "        # print('after conv',x.shape)\n",
        "        x = self.denseLayers(x)\n",
        "        return x"
      ],
      "execution_count": null,
      "outputs": []
    },
    {
      "cell_type": "code",
      "metadata": {
        "colab": {
          "base_uri": "https://localhost:8080/",
          "height": 669
        },
        "id": "IsZM_ot1m8lw",
        "outputId": "70a5655a-76bb-4391-881c-a0ab3dbc4a49"
      },
      "source": [
        "cnna2_trainer = CNN_Trainer(device, CNN_a2, 'CNN_a2', lr=0.001)\n",
        "a2_best_epoch, a2_losses, a2_errors = cnna2_trainer.train()\n",
        "plot_train(a2_losses, a2_errors)\n",
        "print('Best epoch:',a2_best_epoch)"
      ],
      "execution_count": null,
      "outputs": [
        {
          "output_type": "stream",
          "text": [
            "cuda Tesla P100-PCIE-16GB\n",
            "Epoch:0   Loss:1.581   Val error:1.379   Best val error:1.379\n",
            "Epoch:1   Loss:1.319   Val error:1.3   Best val error:1.3\n",
            "Epoch:2   Loss:1.208   Val error:1.24   Best val error:1.24\n",
            "Epoch:3   Loss:1.136   Val error:1.211   Best val error:1.211\n",
            "Epoch:4   Loss:1.079   Val error:1.153   Best val error:1.153\n",
            "Epoch:5   Loss:1.023   Val error:1.169   Best val error:1.153\n",
            "Epoch:6   Loss:0.982   Val error:1.107   Best val error:1.107\n",
            "Epoch:7   Loss:0.943   Val error:1.057   Best val error:1.057\n",
            "Epoch:8   Loss:0.913   Val error:1.064   Best val error:1.057\n",
            "Epoch:9   Loss:0.893   Val error:1.039   Best val error:1.039\n",
            "Epoch:10   Loss:0.867   Val error:1.032   Best val error:1.032\n",
            "Epoch:11   Loss:0.842   Val error:1.023   Best val error:1.023\n",
            "Epoch:12   Loss:0.825   Val error:1.049   Best val error:1.023\n",
            "Epoch:13   Loss:0.806   Val error:1.028   Best val error:1.023\n",
            "Epoch:14   Loss:0.793   Val error:1.021   Best val error:1.021\n",
            "Epoch:15   Loss:0.777   Val error:1.027   Best val error:1.021\n",
            "Epoch:16   Loss:0.765   Val error:1.012   Best val error:1.012\n",
            "Epoch:17   Loss:0.755   Val error:1.006   Best val error:1.006\n",
            "Epoch:18   Loss:0.742   Val error:1.022   Best val error:1.006\n",
            "Epoch:19   Loss:0.729   Val error:0.996   Best val error:0.996\n"
          ],
          "name": "stdout"
        },
        {
          "output_type": "display_data",
          "data": {
            "image/png": "[encoded data removed]",
            "text/plain": [
              "<Figure size 432x288 with 1 Axes>"
            ]
          },
          "metadata": {
            "tags": [],
            "needs_background": "light"
          }
        },
        {
          "output_type": "stream",
          "text": [
            "Best epoch: 19\n"
          ],
          "name": "stdout"
        }
      ]
    },
    {
      "cell_type": "code",
      "metadata": {
        "colab": {
          "base_uri": "https://localhost:8080/"
        },
        "id": "NDip2JUgnH5m",
        "outputId": "de1e66b6-488f-49ed-f39c-c29e04891b04"
      },
      "source": [
        "a2_acc = test_model(device, CNN_a2, 'q1_ckpt_CNN_a2_best', test_dataset)\n",
        "print('Test accuracy:',a2_acc,'%')"
      ],
      "execution_count": null,
      "outputs": [
        {
          "output_type": "stream",
          "text": [
            "CNN_a2(\n",
            "  (convLayers): Sequential(\n",
            "    (0): Conv2d(3, 64, kernel_size=(3, 3), stride=(1, 1), padding=(1, 1))\n",
            "    (1): BatchNorm2d(64, eps=1e-05, momentum=0.1, affine=True, track_running_stats=True)\n",
            "    (2): ReLU(inplace=True)\n",
            "    (3): AvgPool2d(kernel_size=2, stride=2, padding=0)\n",
            "  )\n",
            "  (denseLayers): Sequential(\n",
            "    (0): Linear(in_features=16384, out_features=10, bias=True)\n",
            "  )\n",
            ")\n",
            "Test accuracy: 66.34 %\n"
          ],
          "name": "stdout"
        }
      ]
    },
    {
      "cell_type": "markdown",
      "metadata": {
        "id": "VOVu1z9Si8uv"
      },
      "source": [
        "# A3) Without pooling  \n",
        "--> 1 block of : Conv2D -> BatchNorm2D   \n",
        "--> 1 dense layer  \n",
        "--> ReLU activations"
      ]
    },
    {
      "cell_type": "code",
      "metadata": {
        "id": "vKqf3KKXi76b"
      },
      "source": [
        "class CNN_a3(nn.Module):\n",
        "    def __init__(self):\n",
        "        super(CNN_a3, self).__init__()\n",
        "        self.convLayers = nn.Sequential(\n",
        "            # block 1\n",
        "            nn.Conv2d(in_channels=3, out_channels=64, kernel_size=3, padding=1),\n",
        "            nn.BatchNorm2d(64),\n",
        "            nn.ReLU(inplace=True) # 32x32x64 = 65536\n",
        "        )\n",
        "        self.denseLayers = nn.Sequential(\n",
        "            nn.Linear(65536, 10)\n",
        "        )\n",
        "\n",
        "    def forward(self,x):\n",
        "        x = self.convLayers(x)\n",
        "        x = torch.flatten(x, start_dim=1)\n",
        "        # print('after conv',x.shape)\n",
        "        x = self.denseLayers(x)\n",
        "        return x"
      ],
      "execution_count": null,
      "outputs": []
    },
    {
      "cell_type": "code",
      "metadata": {
        "colab": {
          "base_uri": "https://localhost:8080/",
          "height": 669
        },
        "id": "jSWzcVmXz-wE",
        "outputId": "ad8ce32b-fee0-4cac-f9a3-140b1aa508d7"
      },
      "source": [
        "cnna3_trainer = CNN_Trainer(device, CNN_a3, 'CNN_a3', lr=0.001)\n",
        "a3_best_epoch, a3_losses, a3_errors = cnna3_trainer.train()\n",
        "plot_train(a3_losses, a3_errors)\n",
        "print('Best epoch:',a3_best_epoch)"
      ],
      "execution_count": null,
      "outputs": [
        {
          "output_type": "stream",
          "text": [
            "cuda Tesla P100-PCIE-16GB\n",
            "Epoch:0   Loss:1.812   Val error:1.536   Best val error:1.536\n",
            "Epoch:1   Loss:1.31   Val error:1.375   Best val error:1.375\n",
            "Epoch:2   Loss:1.103   Val error:1.222   Best val error:1.222\n",
            "Epoch:3   Loss:0.946   Val error:1.193   Best val error:1.193\n",
            "Epoch:4   Loss:0.864   Val error:1.177   Best val error:1.177\n",
            "Epoch:5   Loss:0.777   Val error:1.19   Best val error:1.177\n",
            "Epoch:6   Loss:0.717   Val error:1.16   Best val error:1.16\n",
            "Epoch:7   Loss:0.663   Val error:1.171   Best val error:1.16\n",
            "Epoch:8   Loss:0.616   Val error:1.206   Best val error:1.16\n",
            "Epoch:9   Loss:0.574   Val error:1.196   Best val error:1.16\n",
            "Epoch:10   Loss:0.535   Val error:1.16   Best val error:1.16\n",
            "Epoch:11   Loss:0.504   Val error:1.194   Best val error:1.16\n",
            "Epoch:12   Loss:0.47   Val error:1.249   Best val error:1.16\n",
            "Epoch:13   Loss:0.442   Val error:1.219   Best val error:1.16\n",
            "Epoch:14   Loss:0.418   Val error:1.236   Best val error:1.16\n",
            "Epoch:15   Loss:0.395   Val error:1.245   Best val error:1.16\n",
            "Epoch:16   Loss:0.368   Val error:1.247   Best val error:1.16\n",
            "Epoch:17   Loss:0.348   Val error:1.265   Best val error:1.16\n",
            "Epoch:18   Loss:0.331   Val error:1.28   Best val error:1.16\n",
            "Epoch:19   Loss:0.31   Val error:1.301   Best val error:1.16\n"
          ],
          "name": "stdout"
        },
        {
          "output_type": "display_data",
          "data": {
            "image/png": "[encoded data removed]",
            "text/plain": [
              "<Figure size 432x288 with 1 Axes>"
            ]
          },
          "metadata": {
            "tags": [],
            "needs_background": "light"
          }
        },
        {
          "output_type": "stream",
          "text": [
            "Best epoch: 6\n"
          ],
          "name": "stdout"
        }
      ]
    },
    {
      "cell_type": "code",
      "metadata": {
        "colab": {
          "base_uri": "https://localhost:8080/"
        },
        "id": "Gf8QbeSB1gu5",
        "outputId": "ed0f10ab-1904-429c-a3f3-7c7fe16179a2"
      },
      "source": [
        "a3_acc = test_model(device, CNN_a3, 'q1_ckpt_CNN_a3_best', test_dataset)\n",
        "print('Test accuracy:',a3_acc,'%')"
      ],
      "execution_count": null,
      "outputs": [
        {
          "output_type": "stream",
          "text": [
            "CNN_a3(\n",
            "  (convLayers): Sequential(\n",
            "    (0): Conv2d(3, 64, kernel_size=(3, 3), stride=(1, 1), padding=(1, 1))\n",
            "    (1): BatchNorm2d(64, eps=1e-05, momentum=0.1, affine=True, track_running_stats=True)\n",
            "    (2): ReLU(inplace=True)\n",
            "  )\n",
            "  (denseLayers): Sequential(\n",
            "    (0): Linear(in_features=65536, out_features=10, bias=True)\n",
            "  )\n",
            ")\n",
            "Test accuracy: 61.71 %\n"
          ],
          "name": "stdout"
        }
      ]
    },
    {
      "cell_type": "markdown",
      "metadata": {
        "id": "TKrM7s6V47LB"
      },
      "source": [
        "We observe that without pooling layer, the training loss reduces rapidly but the validation loss does not reduce and thus the accuracy of the model is very less. This is because the model has become sensitive to the locations of the objects in the training images due to the lack of pooling layers.  \n",
        "The importance of the pooling layers is that as the image is processed by the network, pooling gradually reduces the spatial resolution of our hidden representations, aggregating information so that the higher up we go in the network, the larger the receptive field (in the input) to which each hidden node is sensitive, ultimately learning a global representation. Thus pooling layers serve the dual purposes of mitigating the sensitivity of convolutional layers to location and of spatially downsampling representations."
      ]
    },
    {
      "cell_type": "markdown",
      "metadata": {
        "id": "hTcHGJKQm28C"
      },
      "source": [
        "# B) 2 dense layers  \n",
        "--> 1 block of : Conv2D -> BatchNorm2D -> MaxPooling2D  \n",
        "--> 2 dense layers  \n",
        "--> ReLU activations  \n",
        "--> Learning rate decay (if val loss increases)"
      ]
    },
    {
      "cell_type": "code",
      "metadata": {
        "id": "SODRNI6Ym_GJ"
      },
      "source": [
        "class CNN_b(nn.Module):\n",
        "    def __init__(self):\n",
        "        super(CNN_b, self).__init__()\n",
        "        self.convLayers = nn.Sequential(\n",
        "            # block 1\n",
        "            nn.Conv2d(in_channels=3, out_channels=64, kernel_size=3, padding=1),\n",
        "            nn.BatchNorm2d(64),\n",
        "            nn.ReLU(inplace=True),\n",
        "            nn.MaxPool2d(kernel_size=2, stride=2) #16384\n",
        "        )\n",
        "        self.denseLayers = nn.Sequential(\n",
        "            nn.Linear(16384, 64),\n",
        "            nn.ReLU(inplace=True),\n",
        "            nn.Linear(64, 10),\n",
        "        )\n",
        "\n",
        "    def forward(self,x):\n",
        "        x = self.convLayers(x)\n",
        "        x = torch.flatten(x, start_dim=1)\n",
        "        # print('after conv',x.shape)\n",
        "        x = self.denseLayers(x)\n",
        "        return x"
      ],
      "execution_count": null,
      "outputs": []
    },
    {
      "cell_type": "code",
      "metadata": {
        "colab": {
          "base_uri": "https://localhost:8080/",
          "height": 788
        },
        "id": "OjNmaf-Lo9XP",
        "outputId": "b743617e-274f-425a-df26-947d31235efa"
      },
      "source": [
        "cnnb_trainer = CNN_Trainer(device, CNN_b, 'CNN_b', lr=0.001, lr_decay=0.95)\n",
        "b_best_epoch, b_losses, b_errors = cnnb_trainer.train()\n",
        "plot_train(b_losses, b_errors)\n",
        "print('Best epoch:',b_best_epoch)"
      ],
      "execution_count": null,
      "outputs": [
        {
          "output_type": "stream",
          "text": [
            "cuda Tesla T4\n",
            "Epoch:0   Loss:1.58   Val error:1.354   Best val error:1.354\n",
            "Epoch:1   Loss:1.258   Val error:1.217   Best val error:1.217\n",
            "Epoch:2   Loss:1.117   Val error:1.136   Best val error:1.136\n",
            "Epoch:3   Loss:1.027   Val error:1.046   Best val error:1.046\n",
            "Epoch:4   Loss:0.952   Val error:1.04   Best val error:1.04\n",
            "Epoch:5   Loss:0.889   Val error:1.006   Best val error:1.006\n",
            "Epoch:6   Loss:0.844   Val error:1.011   Best val error:1.006\n",
            "Epoch:7   Loss:0.803   Val error:0.988   Best val error:0.988\n",
            "Epoch:8   Loss:0.762   Val error:1.032   Best val error:0.988\n",
            "Epoch:9   Loss:0.724   Val error:0.983   Best val error:0.983\n",
            "Epoch:10   Loss:0.686   Val error:0.953   Best val error:0.953\n",
            "Epoch:11   Loss:0.647   Val error:0.973   Best val error:0.953\n",
            "Epoch:12   Loss:0.614   Val error:0.963   Best val error:0.953\n",
            "Epoch:13   Loss:0.578   Val error:1.049   Best val error:0.953\n",
            "LR adjusted\n",
            "Epoch:14   Loss:0.543   Val error:1.006   Best val error:0.953\n",
            "LR adjusted\n",
            "Epoch:15   Loss:0.506   Val error:0.981   Best val error:0.953\n",
            "LR adjusted\n",
            "Epoch:16   Loss:0.475   Val error:1.014   Best val error:0.953\n",
            "LR adjusted\n",
            "Epoch:17   Loss:0.443   Val error:1.017   Best val error:0.953\n",
            "LR adjusted\n",
            "Epoch:18   Loss:0.414   Val error:1.02   Best val error:0.953\n",
            "LR adjusted\n",
            "Epoch:19   Loss:0.383   Val error:1.03   Best val error:0.953\n",
            "LR adjusted\n"
          ],
          "name": "stdout"
        },
        {
          "output_type": "display_data",
          "data": {
            "image/png": "[encoded data removed]",
            "text/plain": [
              "<Figure size 432x288 with 1 Axes>"
            ]
          },
          "metadata": {
            "tags": [],
            "needs_background": "light"
          }
        },
        {
          "output_type": "stream",
          "text": [
            "Best epoch: 10\n"
          ],
          "name": "stdout"
        }
      ]
    },
    {
      "cell_type": "code",
      "metadata": {
        "colab": {
          "base_uri": "https://localhost:8080/"
        },
        "id": "IQA7q1yipBYa",
        "outputId": "0d592e2d-2c43-4cf1-e7b1-c617cf52e2c5"
      },
      "source": [
        "b_acc = test_model(device, CNN_b, 'q1_ckpt_CNN_b_best', test_dataset)\n",
        "print('Test accuracy:',b_acc,'%')"
      ],
      "execution_count": null,
      "outputs": [
        {
          "output_type": "stream",
          "text": [
            "CNN_b(\n",
            "  (convLayers): Sequential(\n",
            "    (0): Conv2d(3, 64, kernel_size=(3, 3), stride=(1, 1), padding=(1, 1))\n",
            "    (1): BatchNorm2d(64, eps=1e-05, momentum=0.1, affine=True, track_running_stats=True)\n",
            "    (2): ReLU(inplace=True)\n",
            "    (3): MaxPool2d(kernel_size=2, stride=2, padding=0, dilation=1, ceil_mode=False)\n",
            "  )\n",
            "  (denseLayers): Sequential(\n",
            "    (0): Linear(in_features=16384, out_features=64, bias=True)\n",
            "    (1): ReLU(inplace=True)\n",
            "    (2): Linear(in_features=64, out_features=10, bias=True)\n",
            "  )\n",
            ")\n",
            "Test accuracy: 67.35 %\n"
          ],
          "name": "stdout"
        }
      ]
    },
    {
      "cell_type": "markdown",
      "metadata": {
        "id": "i-6ePH0cmMcb"
      },
      "source": [
        "We can see that adding a dense layer increased the accuracy of the network as it is now able to learn with more weights"
      ]
    },
    {
      "cell_type": "markdown",
      "metadata": {
        "id": "NBiVF_O9cVAc"
      },
      "source": [
        "# C1) 2 blocks of : Conv2D -> BatchNorm2D-> MaxPooling2D  \n",
        "--> 2 blocks of : Conv2D -> BatchNorm2D -> MaxPooling2D  \n",
        "--> 2 dense layers  \n",
        "--> ReLU activations  \n",
        "--> Dropout  \n",
        "--> Learning rate decay (if val loss increases)  \n",
        "--> Regularization (weight decay)"
      ]
    },
    {
      "cell_type": "code",
      "metadata": {
        "id": "DV2F-hyguX2w"
      },
      "source": [
        "class CNN_c(nn.Module):\n",
        "    def __init__(self):\n",
        "        super(CNN_c, self).__init__()\n",
        "        self.convLayers = nn.Sequential(\n",
        "            # block 1\n",
        "            nn.Conv2d(in_channels=3, out_channels=32, kernel_size=5, padding=2),\n",
        "            nn.BatchNorm2d(32),\n",
        "            nn.ReLU(inplace=True),\n",
        "            nn.Dropout(0.1),\n",
        "            nn.MaxPool2d(kernel_size=2, stride=2),\n",
        "\n",
        "            # block 2\n",
        "            nn.Conv2d(in_channels=32, out_channels=64, kernel_size=3, padding=1),\n",
        "            nn.BatchNorm2d(64),\n",
        "            nn.ReLU(inplace=True),\n",
        "            nn.Dropout(0.1),\n",
        "            nn.MaxPool2d(kernel_size=2, stride=2) # 8x8x64\n",
        "        )\n",
        "        self.denseLayers = nn.Sequential(\n",
        "            nn.Dropout(0.1),\n",
        "            nn.Linear(4096, 512),\n",
        "            nn.ReLU(inplace=True),\n",
        "            nn.Linear(512, 10),\n",
        "        )\n",
        "\n",
        "    def forward(self,x):\n",
        "        x = self.convLayers(x)\n",
        "        x = torch.flatten(x, start_dim=1)\n",
        "        # print('after conv',x.shape)\n",
        "        x = self.denseLayers(x)\n",
        "        return x"
      ],
      "execution_count": null,
      "outputs": []
    },
    {
      "cell_type": "code",
      "metadata": {
        "colab": {
          "base_uri": "https://localhost:8080/",
          "height": 686
        },
        "id": "mZ0gwRqJb2hQ",
        "outputId": "9fb761f2-ea12-40af-f513-c1f12bdadebf"
      },
      "source": [
        "cnnc_trainer = CNN_Trainer(device, CNN_c, 'CNN_c', lr=0.001, lr_decay=0.95, weight_decay=1e-4)\n",
        "c_best_epoch, c_losses, c_errors = cnnc_trainer.train()\n",
        "plot_train(c_losses, c_errors)\n",
        "print('Best epoch:',c_best_epoch)"
      ],
      "execution_count": null,
      "outputs": [
        {
          "output_type": "stream",
          "text": [
            "cuda Tesla T4\n",
            "Epoch:0   Loss:1.575   Val error:1.341   Best val error:1.341\n",
            "Epoch:1   Loss:1.208   Val error:1.17   Best val error:1.17\n",
            "Epoch:2   Loss:1.066   Val error:1.074   Best val error:1.074\n",
            "Epoch:3   Loss:0.986   Val error:0.997   Best val error:0.997\n",
            "Epoch:4   Loss:0.928   Val error:0.971   Best val error:0.971\n",
            "Epoch:5   Loss:0.882   Val error:0.945   Best val error:0.945\n",
            "Epoch:6   Loss:0.846   Val error:0.89   Best val error:0.89\n",
            "Epoch:7   Loss:0.801   Val error:0.864   Best val error:0.864\n",
            "Epoch:8   Loss:0.77   Val error:0.842   Best val error:0.842\n",
            "Epoch:9   Loss:0.737   Val error:0.817   Best val error:0.817\n",
            "Epoch:10   Loss:0.705   Val error:0.816   Best val error:0.816\n",
            "Epoch:11   Loss:0.678   Val error:0.822   Best val error:0.816\n",
            "Epoch:12   Loss:0.646   Val error:0.792   Best val error:0.792\n",
            "Epoch:13   Loss:0.619   Val error:0.79   Best val error:0.79\n",
            "Epoch:14   Loss:0.595   Val error:0.749   Best val error:0.749\n",
            "Epoch:15   Loss:0.569   Val error:0.742   Best val error:0.742\n",
            "Epoch:16   Loss:0.545   Val error:0.725   Best val error:0.725\n",
            "Epoch:17   Loss:0.52   Val error:0.727   Best val error:0.725\n",
            "Epoch:18   Loss:0.501   Val error:0.75   Best val error:0.725\n",
            "Epoch:19   Loss:0.48   Val error:0.728   Best val error:0.725\n",
            "LR adjusted\n"
          ],
          "name": "stdout"
        },
        {
          "output_type": "display_data",
          "data": {
            "image/png": "[encoded data removed]",
            "text/plain": [
              "<Figure size 432x288 with 1 Axes>"
            ]
          },
          "metadata": {
            "tags": [],
            "needs_background": "light"
          }
        },
        {
          "output_type": "stream",
          "text": [
            "Best epoch: 16\n"
          ],
          "name": "stdout"
        }
      ]
    },
    {
      "cell_type": "code",
      "metadata": {
        "colab": {
          "base_uri": "https://localhost:8080/"
        },
        "id": "QOSRda5ZSzAE",
        "outputId": "56d8e388-7213-4dee-f76f-88447fe0b7f0"
      },
      "source": [
        "# model = CNN_a().cuda()\n",
        "c_acc = test_model(device, CNN_c, 'q1_ckpt_CNN_c_best', test_dataset)\n",
        "print('Test accuracy:',c_acc,'%')"
      ],
      "execution_count": null,
      "outputs": [
        {
          "output_type": "stream",
          "text": [
            "CNN_c(\n",
            "  (convLayers): Sequential(\n",
            "    (0): Conv2d(3, 32, kernel_size=(5, 5), stride=(1, 1), padding=(2, 2))\n",
            "    (1): BatchNorm2d(32, eps=1e-05, momentum=0.1, affine=True, track_running_stats=True)\n",
            "    (2): ReLU(inplace=True)\n",
            "    (3): Dropout(p=0.1, inplace=False)\n",
            "    (4): MaxPool2d(kernel_size=2, stride=2, padding=0, dilation=1, ceil_mode=False)\n",
            "    (5): Conv2d(32, 64, kernel_size=(3, 3), stride=(1, 1), padding=(1, 1))\n",
            "    (6): BatchNorm2d(64, eps=1e-05, momentum=0.1, affine=True, track_running_stats=True)\n",
            "    (7): ReLU(inplace=True)\n",
            "    (8): Dropout(p=0.1, inplace=False)\n",
            "    (9): MaxPool2d(kernel_size=2, stride=2, padding=0, dilation=1, ceil_mode=False)\n",
            "  )\n",
            "  (denseLayers): Sequential(\n",
            "    (0): Dropout(p=0.1, inplace=False)\n",
            "    (1): Linear(in_features=4096, out_features=512, bias=True)\n",
            "    (2): ReLU(inplace=True)\n",
            "    (3): Linear(in_features=512, out_features=10, bias=True)\n",
            "  )\n",
            ")\n",
            "Test accuracy: 74.7 %\n"
          ],
          "name": "stdout"
        }
      ]
    },
    {
      "cell_type": "markdown",
      "metadata": {
        "id": "xqU5Paadmu6p"
      },
      "source": [
        "We can see there is a large increase in the accuracy of the model after adding dropout layers. Also the train loss decreases slightly slower than before. This is because dropout randomly deactivates some neurons of a layer, thus nullifying their contribution to the output. This prevents neurons to be dependant on each other or only on specific features. This avoids overfitting the training data and hence increases the generalization power of the network."
      ]
    },
    {
      "cell_type": "markdown",
      "metadata": {
        "id": "O1d5bS1Oxo95"
      },
      "source": [
        "## C2) With Sigmoid activations"
      ]
    },
    {
      "cell_type": "code",
      "metadata": {
        "id": "GknlR3hDxwnl"
      },
      "source": [
        "class CNN_c2(nn.Module):\n",
        "    def __init__(self):\n",
        "        super(CNN_c2, self).__init__()\n",
        "        self.convLayers = nn.Sequential(\n",
        "            # block 1\n",
        "            nn.Conv2d(in_channels=3, out_channels=32, kernel_size=5, padding=2),\n",
        "            nn.BatchNorm2d(32),\n",
        "            nn.Sigmoid(),\n",
        "            nn.Dropout(0.1),\n",
        "            nn.MaxPool2d(kernel_size=2, stride=2),\n",
        "\n",
        "            # block 2\n",
        "            nn.Conv2d(in_channels=32, out_channels=64, kernel_size=3, padding=1),\n",
        "            nn.BatchNorm2d(64),\n",
        "            nn.Sigmoid(),\n",
        "            nn.Dropout(0.1),\n",
        "            nn.MaxPool2d(kernel_size=2, stride=2) # 8x8x64\n",
        "        )\n",
        "        self.denseLayers = nn.Sequential(\n",
        "            nn.Dropout(0.1),\n",
        "            nn.Linear(4096, 512),\n",
        "            nn.Sigmoid(),\n",
        "            nn.Linear(512, 10),\n",
        "        )\n",
        "\n",
        "    def forward(self,x):\n",
        "        x = self.convLayers(x)\n",
        "        x = torch.flatten(x, start_dim=1)\n",
        "        # print('after conv',x.shape)\n",
        "        x = self.denseLayers(x)\n",
        "        return x"
      ],
      "execution_count": null,
      "outputs": []
    },
    {
      "cell_type": "code",
      "metadata": {
        "colab": {
          "base_uri": "https://localhost:8080/",
          "height": 822
        },
        "id": "wtbfzTJQyIEb",
        "outputId": "9b76fc27-0167-4d4a-ad08-3db700ec2e87"
      },
      "source": [
        "cnnc2_trainer = CNN_Trainer(device, CNN_c2, 'CNN_c2', lr=0.001, lr_decay=0.95, weight_decay=1e-4)\n",
        "c2_best_epoch, c2_losses, c2_errors = cnnc2_trainer.train()\n",
        "plot_train(c2_losses, c2_errors)\n",
        "print('Best epoch:',c2_best_epoch)"
      ],
      "execution_count": null,
      "outputs": [
        {
          "output_type": "stream",
          "text": [
            "cuda Tesla P100-PCIE-16GB\n",
            "Epoch:0   Loss:2.27   Val error:2.221   Best val error:2.221\n",
            "Epoch:1   Loss:2.123   Val error:2.061   Best val error:2.061\n",
            "Epoch:2   Loss:2.01   Val error:1.991   Best val error:1.991\n",
            "Epoch:3   Loss:1.948   Val error:1.932   Best val error:1.932\n",
            "Epoch:4   Loss:1.886   Val error:1.884   Best val error:1.884\n",
            "Epoch:5   Loss:1.816   Val error:1.827   Best val error:1.827\n",
            "Epoch:6   Loss:1.737   Val error:1.839   Best val error:1.827\n",
            "Epoch:7   Loss:1.651   Val error:1.89   Best val error:1.827\n",
            "Epoch:8   Loss:1.583   Val error:1.863   Best val error:1.827\n",
            "LR adjusted\n",
            "Epoch:9   Loss:1.541   Val error:1.919   Best val error:1.827\n",
            "LR adjusted\n",
            "Epoch:10   Loss:1.509   Val error:1.834   Best val error:1.827\n",
            "LR adjusted\n",
            "Epoch:11   Loss:1.483   Val error:1.808   Best val error:1.808\n",
            "Epoch:12   Loss:1.458   Val error:1.913   Best val error:1.808\n",
            "Epoch:13   Loss:1.441   Val error:1.914   Best val error:1.808\n",
            "Epoch:14   Loss:1.421   Val error:1.867   Best val error:1.808\n",
            "LR adjusted\n",
            "Epoch:15   Loss:1.401   Val error:1.867   Best val error:1.808\n",
            "LR adjusted\n",
            "Epoch:16   Loss:1.382   Val error:1.917   Best val error:1.808\n",
            "LR adjusted\n",
            "Epoch:17   Loss:1.364   Val error:1.954   Best val error:1.808\n",
            "LR adjusted\n",
            "Epoch:18   Loss:1.352   Val error:1.84   Best val error:1.808\n",
            "LR adjusted\n",
            "Epoch:19   Loss:1.337   Val error:1.863   Best val error:1.808\n",
            "LR adjusted\n"
          ],
          "name": "stdout"
        },
        {
          "output_type": "display_data",
          "data": {
            "image/png": "[encoded data removed]",
            "text/plain": [
              "<Figure size 432x288 with 1 Axes>"
            ]
          },
          "metadata": {
            "tags": [],
            "needs_background": "light"
          }
        },
        {
          "output_type": "stream",
          "text": [
            "Best epoch: 11\n"
          ],
          "name": "stdout"
        }
      ]
    },
    {
      "cell_type": "code",
      "metadata": {
        "colab": {
          "base_uri": "https://localhost:8080/"
        },
        "id": "FxGWqQdpya3S",
        "outputId": "a02e0360-0c27-48c6-bdf4-91a7d525ff6a"
      },
      "source": [
        "c2_acc = test_model(device, CNN_c2, 'q1_ckpt_CNN_c2_best', test_dataset)\n",
        "print('Test accuracy:',c2_acc,'%')"
      ],
      "execution_count": null,
      "outputs": [
        {
          "output_type": "stream",
          "text": [
            "CNN_c2(\n",
            "  (convLayers): Sequential(\n",
            "    (0): Conv2d(3, 32, kernel_size=(5, 5), stride=(1, 1), padding=(2, 2))\n",
            "    (1): BatchNorm2d(32, eps=1e-05, momentum=0.1, affine=True, track_running_stats=True)\n",
            "    (2): Sigmoid()\n",
            "    (3): Dropout(p=0.1, inplace=False)\n",
            "    (4): MaxPool2d(kernel_size=2, stride=2, padding=0, dilation=1, ceil_mode=False)\n",
            "    (5): Conv2d(32, 64, kernel_size=(3, 3), stride=(1, 1), padding=(1, 1))\n",
            "    (6): BatchNorm2d(64, eps=1e-05, momentum=0.1, affine=True, track_running_stats=True)\n",
            "    (7): Sigmoid()\n",
            "    (8): Dropout(p=0.1, inplace=False)\n",
            "    (9): MaxPool2d(kernel_size=2, stride=2, padding=0, dilation=1, ceil_mode=False)\n",
            "  )\n",
            "  (denseLayers): Sequential(\n",
            "    (0): Dropout(p=0.1, inplace=False)\n",
            "    (1): Linear(in_features=4096, out_features=512, bias=True)\n",
            "    (2): Sigmoid()\n",
            "    (3): Linear(in_features=512, out_features=10, bias=True)\n",
            "  )\n",
            ")\n",
            "Test accuracy: 31.85 %\n"
          ],
          "name": "stdout"
        }
      ]
    },
    {
      "cell_type": "markdown",
      "metadata": {
        "id": "B-VgcY8QzX9e"
      },
      "source": [
        "## C3) With TanH activations"
      ]
    },
    {
      "cell_type": "code",
      "metadata": {
        "id": "-Xy1c4bNzr94"
      },
      "source": [
        "class CNN_c3(nn.Module):\n",
        "    def __init__(self):\n",
        "        super(CNN_c3, self).__init__()\n",
        "        self.convLayers = nn.Sequential(\n",
        "            # block 1\n",
        "            nn.Conv2d(in_channels=3, out_channels=32, kernel_size=5, padding=2),\n",
        "            nn.BatchNorm2d(32),\n",
        "            nn.Tanh(),\n",
        "            nn.Dropout(0.1),\n",
        "            nn.MaxPool2d(kernel_size=2, stride=2),\n",
        "\n",
        "            # block 2\n",
        "            nn.Conv2d(in_channels=32, out_channels=64, kernel_size=3, padding=1),\n",
        "            nn.BatchNorm2d(64),\n",
        "            nn.Tanh(),\n",
        "            nn.Dropout(0.1),\n",
        "            nn.MaxPool2d(kernel_size=2, stride=2) # 8x8x64\n",
        "        )\n",
        "        self.denseLayers = nn.Sequential(\n",
        "            nn.Dropout(0.1),\n",
        "            nn.Linear(4096, 512),\n",
        "            nn.Tanh(),\n",
        "            nn.Linear(512, 10),\n",
        "        )\n",
        "\n",
        "    def forward(self,x):\n",
        "        x = self.convLayers(x)\n",
        "        x = torch.flatten(x, start_dim=1)\n",
        "        # print('after conv',x.shape)\n",
        "        x = self.denseLayers(x)\n",
        "        return x"
      ],
      "execution_count": null,
      "outputs": []
    },
    {
      "cell_type": "code",
      "metadata": {
        "colab": {
          "base_uri": "https://localhost:8080/",
          "height": 669
        },
        "id": "yDuzkSe65Rtu",
        "outputId": "71b1bc19-5ad9-43b2-989d-3f21030fdfb6"
      },
      "source": [
        "cnnc3_trainer = CNN_Trainer(device, CNN_c3, 'CNN_c3', lr=0.001, lr_decay=0.95, weight_decay=1e-4)\n",
        "c3_best_epoch, c3_losses, c3_errors = cnnc3_trainer.train()\n",
        "plot_train(c3_losses, c3_errors)\n",
        "print('Best epoch:',c3_best_epoch)"
      ],
      "execution_count": null,
      "outputs": [
        {
          "output_type": "stream",
          "text": [
            "cuda Tesla P100-PCIE-16GB\n",
            "Epoch:0   Loss:1.742   Val error:1.612   Best val error:1.612\n",
            "Epoch:1   Loss:1.46   Val error:1.504   Best val error:1.504\n",
            "Epoch:2   Loss:1.338   Val error:1.405   Best val error:1.405\n",
            "Epoch:3   Loss:1.245   Val error:1.488   Best val error:1.405\n",
            "Epoch:4   Loss:1.175   Val error:1.337   Best val error:1.337\n",
            "Epoch:5   Loss:1.12   Val error:1.292   Best val error:1.292\n",
            "Epoch:6   Loss:1.075   Val error:1.3   Best val error:1.292\n",
            "Epoch:7   Loss:1.037   Val error:1.221   Best val error:1.221\n",
            "Epoch:8   Loss:0.995   Val error:1.228   Best val error:1.221\n",
            "Epoch:9   Loss:0.972   Val error:1.192   Best val error:1.192\n",
            "Epoch:10   Loss:0.947   Val error:1.219   Best val error:1.192\n",
            "Epoch:11   Loss:0.922   Val error:1.113   Best val error:1.113\n",
            "Epoch:12   Loss:0.9   Val error:1.168   Best val error:1.113\n",
            "Epoch:13   Loss:0.887   Val error:1.081   Best val error:1.081\n",
            "Epoch:14   Loss:0.872   Val error:1.068   Best val error:1.068\n",
            "Epoch:15   Loss:0.849   Val error:1.059   Best val error:1.059\n",
            "Epoch:16   Loss:0.836   Val error:1.016   Best val error:1.016\n",
            "Epoch:17   Loss:0.825   Val error:1.002   Best val error:1.002\n",
            "Epoch:18   Loss:0.813   Val error:1.055   Best val error:1.002\n",
            "Epoch:19   Loss:0.796   Val error:1.018   Best val error:1.002\n"
          ],
          "name": "stdout"
        },
        {
          "output_type": "display_data",
          "data": {
            "image/png": "[encoded data removed]",
            "text/plain": [
              "<Figure size 432x288 with 1 Axes>"
            ]
          },
          "metadata": {
            "tags": [],
            "needs_background": "light"
          }
        },
        {
          "output_type": "stream",
          "text": [
            "Best epoch: 17\n"
          ],
          "name": "stdout"
        }
      ]
    },
    {
      "cell_type": "code",
      "metadata": {
        "colab": {
          "base_uri": "https://localhost:8080/"
        },
        "id": "5XhaH_So5leE",
        "outputId": "de66ddcc-ad1f-4385-ae93-26edf6cb9596"
      },
      "source": [
        "c3_acc = test_model(device, CNN_c3, 'q1_ckpt_CNN_c3_best', test_dataset)\n",
        "print('Test accuracy:',c3_acc,'%')"
      ],
      "execution_count": null,
      "outputs": [
        {
          "output_type": "stream",
          "text": [
            "CNN_c3(\n",
            "  (convLayers): Sequential(\n",
            "    (0): Conv2d(3, 32, kernel_size=(5, 5), stride=(1, 1), padding=(2, 2))\n",
            "    (1): BatchNorm2d(32, eps=1e-05, momentum=0.1, affine=True, track_running_stats=True)\n",
            "    (2): Tanh()\n",
            "    (3): Dropout(p=0.1, inplace=False)\n",
            "    (4): MaxPool2d(kernel_size=2, stride=2, padding=0, dilation=1, ceil_mode=False)\n",
            "    (5): Conv2d(32, 64, kernel_size=(3, 3), stride=(1, 1), padding=(1, 1))\n",
            "    (6): BatchNorm2d(64, eps=1e-05, momentum=0.1, affine=True, track_running_stats=True)\n",
            "    (7): Tanh()\n",
            "    (8): Dropout(p=0.1, inplace=False)\n",
            "    (9): MaxPool2d(kernel_size=2, stride=2, padding=0, dilation=1, ceil_mode=False)\n",
            "  )\n",
            "  (denseLayers): Sequential(\n",
            "    (0): Dropout(p=0.1, inplace=False)\n",
            "    (1): Linear(in_features=4096, out_features=512, bias=True)\n",
            "    (2): Tanh()\n",
            "    (3): Linear(in_features=512, out_features=10, bias=True)\n",
            "  )\n",
            ")\n",
            "Test accuracy: 65.24 %\n"
          ],
          "name": "stdout"
        }
      ]
    },
    {
      "cell_type": "markdown",
      "metadata": {
        "id": "0YKrSCIk9BDr"
      },
      "source": [
        ""
      ]
    },
    {
      "cell_type": "code",
      "metadata": {
        "id": "6BEwkpBw88Oy"
      },
      "source": [
        "class CNN_c4(nn.Module):\n",
        "    def __init__(self):\n",
        "        super(CNN_c4, self).__init__()\n",
        "        self.convLayers = nn.Sequential(\n",
        "            # block 1\n",
        "            nn.Conv2d(in_channels=3, out_channels=32, kernel_size=5, padding=2),\n",
        "            nn.BatchNorm2d(32),\n",
        "            nn.LeakyReLU(0.1,inplace=True),\n",
        "            nn.Dropout(0.1),\n",
        "            nn.MaxPool2d(kernel_size=2, stride=2),\n",
        "\n",
        "            # block 2\n",
        "            nn.Conv2d(in_channels=32, out_channels=64, kernel_size=3, padding=1),\n",
        "            nn.BatchNorm2d(64),\n",
        "            nn.LeakyReLU(0.1,inplace=True),\n",
        "            nn.Dropout(0.1),\n",
        "            nn.MaxPool2d(kernel_size=2, stride=2) # 8x8x64\n",
        "        )\n",
        "        self.denseLayers = nn.Sequential(\n",
        "            nn.Dropout(0.1),\n",
        "            nn.Linear(4096, 512),\n",
        "            nn.ReLU(inplace=True),\n",
        "            nn.Linear(512, 10)\n",
        "        )\n",
        "\n",
        "    def forward(self,x):\n",
        "        x = self.convLayers(x)\n",
        "        x = torch.flatten(x, start_dim=1)\n",
        "        # print('after conv',x.shape)\n",
        "        x = self.denseLayers(x)\n",
        "        return x"
      ],
      "execution_count": null,
      "outputs": []
    },
    {
      "cell_type": "code",
      "metadata": {
        "colab": {
          "base_uri": "https://localhost:8080/",
          "height": 669
        },
        "id": "OfqnCjPP9Peb",
        "outputId": "4bb94bd9-acde-4fd8-f568-1d3828fd156e"
      },
      "source": [
        "cnnc4_trainer = CNN_Trainer(device, CNN_c4, 'CNN_c4', lr=0.001, lr_decay=0.95, weight_decay=1e-4)\n",
        "c4_best_epoch, c4_losses, c4_errors = cnnc4_trainer.train()\n",
        "plot_train(c4_losses, c4_errors)\n",
        "print('Best epoch:',c4_best_epoch)"
      ],
      "execution_count": null,
      "outputs": [
        {
          "output_type": "stream",
          "text": [
            "cuda Tesla P100-PCIE-16GB\n",
            "Epoch:0   Loss:1.587   Val error:1.317   Best val error:1.317\n",
            "Epoch:1   Loss:1.201   Val error:1.144   Best val error:1.144\n",
            "Epoch:2   Loss:1.062   Val error:1.047   Best val error:1.047\n",
            "Epoch:3   Loss:0.988   Val error:1.034   Best val error:1.034\n",
            "Epoch:4   Loss:0.933   Val error:0.976   Best val error:0.976\n",
            "Epoch:5   Loss:0.881   Val error:0.974   Best val error:0.974\n",
            "Epoch:6   Loss:0.84   Val error:0.89   Best val error:0.89\n",
            "Epoch:7   Loss:0.807   Val error:0.896   Best val error:0.89\n",
            "Epoch:8   Loss:0.773   Val error:0.889   Best val error:0.889\n",
            "Epoch:9   Loss:0.739   Val error:0.832   Best val error:0.832\n",
            "Epoch:10   Loss:0.705   Val error:0.837   Best val error:0.832\n",
            "Epoch:11   Loss:0.674   Val error:0.814   Best val error:0.814\n",
            "Epoch:12   Loss:0.646   Val error:0.812   Best val error:0.812\n",
            "Epoch:13   Loss:0.618   Val error:0.786   Best val error:0.786\n",
            "Epoch:14   Loss:0.593   Val error:0.764   Best val error:0.764\n",
            "Epoch:15   Loss:0.568   Val error:0.776   Best val error:0.764\n",
            "Epoch:16   Loss:0.541   Val error:0.74   Best val error:0.74\n",
            "Epoch:17   Loss:0.517   Val error:0.75   Best val error:0.74\n",
            "Epoch:18   Loss:0.494   Val error:0.72   Best val error:0.72\n",
            "Epoch:19   Loss:0.472   Val error:0.723   Best val error:0.72\n"
          ],
          "name": "stdout"
        },
        {
          "output_type": "display_data",
          "data": {
            "image/png": "[encoded data removed]",
            "text/plain": [
              "<Figure size 432x288 with 1 Axes>"
            ]
          },
          "metadata": {
            "tags": [],
            "needs_background": "light"
          }
        },
        {
          "output_type": "stream",
          "text": [
            "Best epoch: 18\n"
          ],
          "name": "stdout"
        }
      ]
    },
    {
      "cell_type": "code",
      "metadata": {
        "colab": {
          "base_uri": "https://localhost:8080/"
        },
        "id": "gt0S_uxW9awN",
        "outputId": "4b19b8b3-d49c-41df-da8e-717e8f2c5508"
      },
      "source": [
        "c4_acc = test_model(device, CNN_c4, 'q1_ckpt_CNN_c4_best', test_dataset)\n",
        "print('Test accuracy:',c4_acc,'%')"
      ],
      "execution_count": null,
      "outputs": [
        {
          "output_type": "stream",
          "text": [
            "CNN_c4(\n",
            "  (convLayers): Sequential(\n",
            "    (0): Conv2d(3, 32, kernel_size=(5, 5), stride=(1, 1), padding=(2, 2))\n",
            "    (1): BatchNorm2d(32, eps=1e-05, momentum=0.1, affine=True, track_running_stats=True)\n",
            "    (2): LeakyReLU(negative_slope=0.1, inplace=True)\n",
            "    (3): Dropout(p=0.1, inplace=False)\n",
            "    (4): MaxPool2d(kernel_size=2, stride=2, padding=0, dilation=1, ceil_mode=False)\n",
            "    (5): Conv2d(32, 64, kernel_size=(3, 3), stride=(1, 1), padding=(1, 1))\n",
            "    (6): BatchNorm2d(64, eps=1e-05, momentum=0.1, affine=True, track_running_stats=True)\n",
            "    (7): LeakyReLU(negative_slope=0.1, inplace=True)\n",
            "    (8): Dropout(p=0.1, inplace=False)\n",
            "    (9): MaxPool2d(kernel_size=2, stride=2, padding=0, dilation=1, ceil_mode=False)\n",
            "  )\n",
            "  (denseLayers): Sequential(\n",
            "    (0): Dropout(p=0.1, inplace=False)\n",
            "    (1): Linear(in_features=4096, out_features=512, bias=True)\n",
            "    (2): ReLU(inplace=True)\n",
            "    (3): Linear(in_features=512, out_features=10, bias=True)\n",
            "  )\n",
            ")\n",
            "Test accuracy: 75.13 %\n"
          ],
          "name": "stdout"
        }
      ]
    },
    {
      "cell_type": "markdown",
      "metadata": {
        "id": "0BElTUhppkTT"
      },
      "source": [
        "# D) 3 blocks of : Conv2D -> BatchNorm2D-> MaxPooling2D  \n",
        "--> 3 blocks of : Conv2D -> BatchNorm2D -> MaxPooling2D  \n",
        "--> 2 dense layers  \n",
        "--> LeakyReLU activations  \n",
        "--> Dropout  \n",
        "--> Learning rate decay (if val loss does not reduce)  \n",
        "--> Regularization (weight decay)"
      ]
    },
    {
      "cell_type": "code",
      "metadata": {
        "id": "vta4R_QBptin"
      },
      "source": [
        "class CNN_d(nn.Module):\n",
        "    def __init__(self):\n",
        "        super(CNN_d, self).__init__()\n",
        "        self.convLayers = nn.Sequential(\n",
        "            # block 1\n",
        "            # block 1\n",
        "            nn.Conv2d(in_channels=3, out_channels=32, kernel_size=5, padding=2),\n",
        "            nn.BatchNorm2d(32),\n",
        "            nn.LeakyReLU(0.1,inplace=True),\n",
        "            nn.MaxPool2d(kernel_size=2, stride=2),\n",
        "            nn.Dropout(0.1),\n",
        "\n",
        "            # block 2\n",
        "            nn.Conv2d(in_channels=32, out_channels=64, kernel_size=3, padding=1),\n",
        "            nn.BatchNorm2d(64),\n",
        "            nn.LeakyReLU(0.1,inplace=True),\n",
        "            nn.MaxPool2d(kernel_size=2, stride=2), # 8x8x64\n",
        "            nn.Dropout(0.1),\n",
        "\n",
        "            # block 3\n",
        "            nn.Conv2d(in_channels=64, out_channels=128, kernel_size=3, padding=1),\n",
        "            nn.BatchNorm2d(128),\n",
        "            nn.LeakyReLU(0.1,inplace=True),\n",
        "            nn.MaxPool2d(kernel_size=2, stride=2), # 4x4x128\n",
        "            nn.Dropout(0.1)\n",
        "        )\n",
        "        self.denseLayers = nn.Sequential(\n",
        "            # nn.Dropout(0.1),\n",
        "            nn.Linear(2048, 512),\n",
        "            nn.LeakyReLU(0.1,inplace=True),\n",
        "            nn.Dropout(0.1),\n",
        "            nn.Linear(512, 10),\n",
        "        )\n",
        "\n",
        "    def forward(self,x):\n",
        "        x = self.convLayers(x)\n",
        "        x = torch.flatten(x, start_dim=1)\n",
        "        # print('after conv',x.shape)\n",
        "        x = self.denseLayers(x)\n",
        "        return x"
      ],
      "execution_count": null,
      "outputs": []
    },
    {
      "cell_type": "code",
      "metadata": {
        "colab": {
          "base_uri": "https://localhost:8080/",
          "height": 754
        },
        "id": "DxLjiA53fpRT",
        "outputId": "10dc4747-c2ab-494d-a4d6-5df809f8af48"
      },
      "source": [
        "cnnd_trainer = CNN_Trainer(device, CNN_d, 'CNN_d', lr=0.01, epochs=20, lr_decay=0.95, weight_decay=1e-4)\n",
        "d_best_epoch, d_losses, d_errors = cnnd_trainer.train()\n",
        "plot_train(d_losses, d_errors)\n",
        "print('Best epoch:',d_best_epoch)"
      ],
      "execution_count": null,
      "outputs": [
        {
          "output_type": "stream",
          "text": [
            "cuda Tesla P100-PCIE-16GB\n",
            "Epoch:0   Loss:1.389   Val error:1.082   Best val error:1.082\n",
            "Epoch:1   Loss:1.015   Val error:0.913   Best val error:0.913\n",
            "Epoch:2   Loss:0.858   Val error:0.868   Best val error:0.868\n",
            "Epoch:3   Loss:0.76   Val error:0.761   Best val error:0.761\n",
            "Epoch:4   Loss:0.688   Val error:0.719   Best val error:0.719\n",
            "Epoch:5   Loss:0.633   Val error:0.671   Best val error:0.671\n",
            "Epoch:6   Loss:0.577   Val error:0.683   Best val error:0.671\n",
            "Epoch:7   Loss:0.536   Val error:0.621   Best val error:0.621\n",
            "Epoch:8   Loss:0.492   Val error:0.63   Best val error:0.621\n",
            "Epoch:9   Loss:0.454   Val error:0.622   Best val error:0.621\n",
            "Epoch:10   Loss:0.428   Val error:0.637   Best val error:0.621\n",
            "LR adjusted\n",
            "Epoch:11   Loss:0.389   Val error:0.582   Best val error:0.582\n",
            "Epoch:12   Loss:0.365   Val error:0.591   Best val error:0.582\n",
            "Epoch:13   Loss:0.332   Val error:0.574   Best val error:0.574\n",
            "Epoch:14   Loss:0.311   Val error:0.586   Best val error:0.574\n",
            "Epoch:15   Loss:0.288   Val error:0.589   Best val error:0.574\n",
            "Epoch:16   Loss:0.27   Val error:0.586   Best val error:0.574\n",
            "LR adjusted\n",
            "Epoch:17   Loss:0.242   Val error:0.596   Best val error:0.574\n",
            "LR adjusted\n",
            "Epoch:18   Loss:0.223   Val error:0.605   Best val error:0.574\n",
            "LR adjusted\n",
            "Epoch:19   Loss:0.201   Val error:0.588   Best val error:0.574\n",
            "LR adjusted\n"
          ],
          "name": "stdout"
        },
        {
          "output_type": "display_data",
          "data": {
            "image/png": "[encoded data removed]",
            "text/plain": [
              "<Figure size 432x288 with 1 Axes>"
            ]
          },
          "metadata": {
            "tags": [],
            "needs_background": "light"
          }
        },
        {
          "output_type": "stream",
          "text": [
            "Best epoch: 13\n"
          ],
          "name": "stdout"
        }
      ]
    },
    {
      "cell_type": "code",
      "metadata": {
        "colab": {
          "base_uri": "https://localhost:8080/"
        },
        "id": "Eh09LJe_tR0n",
        "outputId": "391da4fc-32a5-414f-885e-7b2fd4508376"
      },
      "source": [
        "d_acc = test_model(device, CNN_d, 'q1_ckpt_CNN_d_best', test_dataset)\n",
        "print('Test accuracy:',d_acc,'%')"
      ],
      "execution_count": null,
      "outputs": [
        {
          "output_type": "stream",
          "text": [
            "CNN_d(\n",
            "  (convLayers): Sequential(\n",
            "    (0): Conv2d(3, 32, kernel_size=(5, 5), stride=(1, 1), padding=(2, 2))\n",
            "    (1): BatchNorm2d(32, eps=1e-05, momentum=0.1, affine=True, track_running_stats=True)\n",
            "    (2): LeakyReLU(negative_slope=0.1, inplace=True)\n",
            "    (3): MaxPool2d(kernel_size=2, stride=2, padding=0, dilation=1, ceil_mode=False)\n",
            "    (4): Dropout(p=0.1, inplace=False)\n",
            "    (5): Conv2d(32, 64, kernel_size=(3, 3), stride=(1, 1), padding=(1, 1))\n",
            "    (6): BatchNorm2d(64, eps=1e-05, momentum=0.1, affine=True, track_running_stats=True)\n",
            "    (7): LeakyReLU(negative_slope=0.1, inplace=True)\n",
            "    (8): MaxPool2d(kernel_size=2, stride=2, padding=0, dilation=1, ceil_mode=False)\n",
            "    (9): Dropout(p=0.1, inplace=False)\n",
            "    (10): Conv2d(64, 128, kernel_size=(3, 3), stride=(1, 1), padding=(1, 1))\n",
            "    (11): BatchNorm2d(128, eps=1e-05, momentum=0.1, affine=True, track_running_stats=True)\n",
            "    (12): LeakyReLU(negative_slope=0.1, inplace=True)\n",
            "    (13): MaxPool2d(kernel_size=2, stride=2, padding=0, dilation=1, ceil_mode=False)\n",
            "    (14): Dropout(p=0.1, inplace=False)\n",
            "  )\n",
            "  (denseLayers): Sequential(\n",
            "    (0): Linear(in_features=2048, out_features=512, bias=True)\n",
            "    (1): LeakyReLU(negative_slope=0.1, inplace=True)\n",
            "    (2): Dropout(p=0.1, inplace=False)\n",
            "    (3): Linear(in_features=512, out_features=10, bias=True)\n",
            "  )\n",
            ")\n",
            "Test accuracy: 81.82000000000001 %\n"
          ],
          "name": "stdout"
        }
      ]
    },
    {
      "cell_type": "markdown",
      "metadata": {
        "id": "ONtaAkeBtIht"
      },
      "source": [
        "We can see that adding a convolutional block increased the accuracy of the network as it is now able to learn with more weights. Also regularization (weight decay) discourages learning a more complex or flexible model, so as to avoid the risk of overfitting."
      ]
    },
    {
      "cell_type": "markdown",
      "metadata": {
        "id": "AhKEAp7MxUzL"
      },
      "source": [
        ""
      ]
    },
    {
      "cell_type": "code",
      "metadata": {
        "id": "F4xS27PGs67-"
      },
      "source": [
        ""
      ],
      "execution_count": null,
      "outputs": []
    },
    {
      "cell_type": "markdown",
      "metadata": {
        "id": "CaN_gFRrOYKE"
      },
      "source": [
        "# E) Random horizontal flipping of images & model weights initialization using Xavier's Normal\n",
        "--> 3 blocks of : Conv2D -> BatchNorm2D -> MaxPooling2D  \n",
        "--> 1 dense layer  \n",
        "--> LeakyReLU activations  \n",
        "--> Dropout  \n",
        "--> Learning rate decay (if val loss increases)  \n",
        "--> Regularization (weight decay)  \n",
        "--> Model weights initialization using Xavier's Normal  \n",
        "--> Random horizontal flipping of images"
      ]
    },
    {
      "cell_type": "code",
      "metadata": {
        "id": "KA9LClduOk10"
      },
      "source": [
        "class CNN_e(nn.Module):\n",
        "    def __init__(self):\n",
        "        super(CNN_e, self).__init__()\n",
        "        self.convLayers = nn.Sequential(\n",
        "            # block 1\n",
        "            nn.Conv2d(in_channels=3, out_channels=32, kernel_size=5, padding=2),\n",
        "            nn.BatchNorm2d(32),\n",
        "            nn.LeakyReLU(0.1,inplace=True),\n",
        "            nn.MaxPool2d(kernel_size=2, stride=2),\n",
        "            nn.Dropout(0.1),\n",
        "\n",
        "            # block 2\n",
        "            nn.Conv2d(in_channels=32, out_channels=64, kernel_size=3, padding=1),\n",
        "            nn.BatchNorm2d(64),\n",
        "            nn.LeakyReLU(0.1,inplace=True),\n",
        "            nn.MaxPool2d(kernel_size=2, stride=2),\n",
        "            nn.Dropout(0.1),\n",
        "\n",
        "            # block 3\n",
        "            nn.Conv2d(in_channels=64, out_channels=128, kernel_size=3, padding=1),\n",
        "            nn.BatchNorm2d(128),\n",
        "            nn.LeakyReLU(0.1,inplace=True),\n",
        "            nn.MaxPool2d(kernel_size=2, stride=2), # 4x4x128\n",
        "            nn.Dropout(0.1)\n",
        "        )\n",
        "        self.denseLayers = nn.Sequential(\n",
        "            nn.Linear(2048, 512),\n",
        "            nn.LeakyReLU(0.1,inplace=True),\n",
        "            nn.Dropout(0.1),\n",
        "            nn.Linear(512, 10),\n",
        "        )\n",
        "        self._initialize_weights()\n",
        "\n",
        "    def forward(self,x):\n",
        "        x = self.convLayers(x)\n",
        "        x = torch.flatten(x, start_dim=1)\n",
        "        # print('after conv',x.shape)\n",
        "        x = self.denseLayers(x)\n",
        "        return x\n",
        "\n",
        "    def _initialize_weights(self):\n",
        "        for m in self.modules():\n",
        "            if isinstance(m, nn.Conv2d) or isinstance(m, nn.Linear):\n",
        "                torch.nn.init.xavier_normal_(m.weight)\n",
        "                if m.bias is not None:\n",
        "                    nn.init.constant_(m.bias, 0)\n",
        "            elif isinstance(m, nn.BatchNorm2d):\n",
        "                nn.init.constant_(m.weight, 1)\n",
        "                nn.init.constant_(m.bias, 0)"
      ],
      "execution_count": null,
      "outputs": []
    },
    {
      "cell_type": "code",
      "metadata": {
        "colab": {
          "base_uri": "https://localhost:8080/"
        },
        "id": "YZ8hujsFO68q",
        "outputId": "e2c97d86-19b7-444c-c8c1-fd8585e59648"
      },
      "source": [
        "transform2 = transforms.Compose([transforms.RandomHorizontalFlip(),\n",
        "        transforms.ToTensor(),\n",
        "        transforms.Normalize([0.485, 0.456, 0.406], [0.229, 0.224, 0.225])])\n",
        "os.makedirs(\"data/cifar\", exist_ok=True)\n",
        "train_dataset2 = CIFAR10(root='data/cifar', download=True, transform=transform2)\n",
        "test_dataset2 = CIFAR10(root='data/cifar', train=False, transform=transform2)\n",
        "print(len(train_dataset2), len(test_dataset2))"
      ],
      "execution_count": null,
      "outputs": [
        {
          "output_type": "stream",
          "text": [
            "Files already downloaded and verified\n",
            "50000 10000\n"
          ],
          "name": "stdout"
        }
      ]
    },
    {
      "cell_type": "markdown",
      "metadata": {
        "id": "sP3U_YKeiPj4"
      },
      "source": [
        "### With SGD optimizer"
      ]
    },
    {
      "cell_type": "code",
      "metadata": {
        "colab": {
          "base_uri": "https://localhost:8080/",
          "height": 856
        },
        "id": "QHJq5wbhTx6N",
        "outputId": "040e2b29-bf42-4502-dc78-3ac958f53681"
      },
      "source": [
        "cnne_trainer = CNN_Trainer(device, CNN_e, 'CNN_e', lr=0.01,  epochs=30, lr_decay=0.95, weight_decay=1e-4, trainset=train_dataset2, valset=test_dataset2)\n",
        "e_best_epoch, e_losses, e_errors = cnne_trainer.train()\n",
        "plot_train(e_losses, e_errors)\n",
        "print('Best epoch:',e_best_epoch)"
      ],
      "execution_count": null,
      "outputs": [
        {
          "output_type": "stream",
          "text": [
            "cuda Tesla T4\n",
            "Epoch:0   Loss:1.469   Val error:1.148   Best val error:1.148\n",
            "Epoch:1   Loss:1.1   Val error:0.967   Best val error:0.967\n",
            "Epoch:2   Loss:0.947   Val error:0.861   Best val error:0.861\n",
            "Epoch:3   Loss:0.855   Val error:0.807   Best val error:0.807\n",
            "Epoch:4   Loss:0.784   Val error:0.754   Best val error:0.754\n",
            "Epoch:5   Loss:0.736   Val error:0.696   Best val error:0.696\n",
            "Epoch:6   Loss:0.69   Val error:0.701   Best val error:0.696\n",
            "Epoch:7   Loss:0.644   Val error:0.667   Best val error:0.667\n",
            "Epoch:8   Loss:0.61   Val error:0.638   Best val error:0.638\n",
            "Epoch:9   Loss:0.583   Val error:0.606   Best val error:0.606\n",
            "Epoch:10   Loss:0.562   Val error:0.653   Best val error:0.606\n",
            "Epoch:11   Loss:0.533   Val error:0.613   Best val error:0.606\n",
            "Epoch:12   Loss:0.509   Val error:0.59   Best val error:0.59\n",
            "Epoch:13   Loss:0.492   Val error:0.566   Best val error:0.566\n",
            "Epoch:14   Loss:0.473   Val error:0.561   Best val error:0.561\n",
            "Epoch:15   Loss:0.456   Val error:0.566   Best val error:0.561\n",
            "Epoch:16   Loss:0.436   Val error:0.55   Best val error:0.55\n",
            "Epoch:17   Loss:0.418   Val error:0.549   Best val error:0.549\n",
            "Epoch:18   Loss:0.406   Val error:0.532   Best val error:0.532\n",
            "Epoch:19   Loss:0.389   Val error:0.535   Best val error:0.532\n",
            "Epoch:20   Loss:0.377   Val error:0.52   Best val error:0.52\n",
            "Epoch:21   Loss:0.367   Val error:0.522   Best val error:0.52\n",
            "Epoch:22   Loss:0.356   Val error:0.526   Best val error:0.52\n",
            "Epoch:23   Loss:0.34   Val error:0.514   Best val error:0.514\n",
            "Epoch:24   Loss:0.33   Val error:0.517   Best val error:0.514\n",
            "Epoch:25   Loss:0.318   Val error:0.505   Best val error:0.505\n",
            "Epoch:26   Loss:0.312   Val error:0.53   Best val error:0.505\n",
            "Epoch:27   Loss:0.298   Val error:0.512   Best val error:0.505\n",
            "Epoch:28   Loss:0.286   Val error:0.507   Best val error:0.505\n",
            "LR adjusted\n",
            "Epoch:29   Loss:0.276   Val error:0.486   Best val error:0.486\n"
          ],
          "name": "stdout"
        },
        {
          "output_type": "display_data",
          "data": {
            "image/png": "[encoded data removed]",
            "text/plain": [
              "<Figure size 432x288 with 1 Axes>"
            ]
          },
          "metadata": {
            "tags": [],
            "needs_background": "light"
          }
        },
        {
          "output_type": "stream",
          "text": [
            "Best epoch: 29\n"
          ],
          "name": "stdout"
        }
      ]
    },
    {
      "cell_type": "code",
      "metadata": {
        "colab": {
          "base_uri": "https://localhost:8080/"
        },
        "id": "6OGUVJI3XZao",
        "outputId": "5bc91446-de05-4580-ab17-5e4c0f0aaf5d"
      },
      "source": [
        "e_acc = test_model(device, CNN_e, 'q1_ckpt_CNN_e_best', test_dataset2)\n",
        "print('Test accuracy:',e_acc,'%')"
      ],
      "execution_count": null,
      "outputs": [
        {
          "output_type": "stream",
          "text": [
            "CNN_e(\n",
            "  (convLayers): Sequential(\n",
            "    (0): Conv2d(3, 32, kernel_size=(5, 5), stride=(1, 1), padding=(2, 2))\n",
            "    (1): BatchNorm2d(32, eps=1e-05, momentum=0.1, affine=True, track_running_stats=True)\n",
            "    (2): LeakyReLU(negative_slope=0.1, inplace=True)\n",
            "    (3): MaxPool2d(kernel_size=2, stride=2, padding=0, dilation=1, ceil_mode=False)\n",
            "    (4): Dropout(p=0.1, inplace=False)\n",
            "    (5): Conv2d(32, 64, kernel_size=(3, 3), stride=(1, 1), padding=(1, 1))\n",
            "    (6): BatchNorm2d(64, eps=1e-05, momentum=0.1, affine=True, track_running_stats=True)\n",
            "    (7): LeakyReLU(negative_slope=0.1, inplace=True)\n",
            "    (8): MaxPool2d(kernel_size=2, stride=2, padding=0, dilation=1, ceil_mode=False)\n",
            "    (9): Dropout(p=0.1, inplace=False)\n",
            "    (10): Conv2d(64, 128, kernel_size=(3, 3), stride=(1, 1), padding=(1, 1))\n",
            "    (11): BatchNorm2d(128, eps=1e-05, momentum=0.1, affine=True, track_running_stats=True)\n",
            "    (12): LeakyReLU(negative_slope=0.1, inplace=True)\n",
            "    (13): MaxPool2d(kernel_size=2, stride=2, padding=0, dilation=1, ceil_mode=False)\n",
            "    (14): Dropout(p=0.1, inplace=False)\n",
            "  )\n",
            "  (denseLayers): Sequential(\n",
            "    (0): Linear(in_features=2048, out_features=512, bias=True)\n",
            "    (1): LeakyReLU(negative_slope=0.1, inplace=True)\n",
            "    (2): Dropout(p=0.1, inplace=False)\n",
            "    (3): Linear(in_features=512, out_features=10, bias=True)\n",
            "  )\n",
            ")\n",
            "Test accuracy: 83.99 %\n"
          ],
          "name": "stdout"
        }
      ]
    },
    {
      "cell_type": "markdown",
      "metadata": {
        "id": "UrUw_vr2pKL3"
      },
      "source": [
        "We can see there is a significant increase in the accuracy after data augmentation (random horizontal flipping). As data-augmentation increases the variations in the training data, it also takes some more time for the model to train but it improves the performance and ability of the model to generalize. Also weight initialization method serves as a good starting point for initialization and mitigates the chances of exploding or vanishing gradients."
      ]
    },
    {
      "cell_type": "markdown",
      "metadata": {
        "id": "m6y-pbJyA57O"
      },
      "source": [
        "### With ADAM optimizer"
      ]
    },
    {
      "cell_type": "code",
      "metadata": {
        "colab": {
          "base_uri": "https://localhost:8080/",
          "height": 992
        },
        "id": "NmEbxNyZPfMK",
        "outputId": "ba1634f9-499a-41c8-d1e8-61fef4b5503f"
      },
      "source": [
        "cnne1_trainer = CNN_Trainer(device, CNN_e, 'CNN_e1', lr=0.001,  epochs=30, lr_decay=0.95, optm='adam', weight_decay=1e-4, trainset=train_dataset2, valset=test_dataset2)\n",
        "e1_best_epoch, e1_losses, e1_errors = cnne1_trainer.train()\n",
        "plot_train(e1_losses, e1_errors)\n",
        "print('Best epoch:',e1_best_epoch)"
      ],
      "execution_count": null,
      "outputs": [
        {
          "output_type": "stream",
          "text": [
            "cuda Tesla T4\n",
            "Epoch:0   Loss:1.602   Val error:1.143   Best val error:1.143\n",
            "Epoch:1   Loss:1.054   Val error:1.082   Best val error:1.082\n",
            "Epoch:2   Loss:0.903   Val error:0.842   Best val error:0.842\n",
            "Epoch:3   Loss:0.801   Val error:0.733   Best val error:0.733\n",
            "Epoch:4   Loss:0.727   Val error:0.801   Best val error:0.733\n",
            "Epoch:5   Loss:0.682   Val error:0.702   Best val error:0.702\n",
            "Epoch:6   Loss:0.636   Val error:0.613   Best val error:0.613\n",
            "Epoch:7   Loss:0.594   Val error:0.641   Best val error:0.613\n",
            "Epoch:8   Loss:0.562   Val error:0.621   Best val error:0.613\n",
            "Epoch:9   Loss:0.529   Val error:0.575   Best val error:0.575\n",
            "Epoch:10   Loss:0.494   Val error:0.59   Best val error:0.575\n",
            "Epoch:11   Loss:0.466   Val error:0.558   Best val error:0.558\n",
            "Epoch:12   Loss:0.444   Val error:0.549   Best val error:0.549\n",
            "Epoch:13   Loss:0.414   Val error:0.56   Best val error:0.549\n",
            "Epoch:14   Loss:0.399   Val error:0.566   Best val error:0.549\n",
            "Epoch:15   Loss:0.377   Val error:0.516   Best val error:0.516\n",
            "Epoch:16   Loss:0.355   Val error:0.542   Best val error:0.516\n",
            "Epoch:17   Loss:0.335   Val error:0.519   Best val error:0.516\n",
            "Epoch:18   Loss:0.319   Val error:0.55   Best val error:0.516\n",
            "LR adjusted\n",
            "Epoch:19   Loss:0.295   Val error:0.507   Best val error:0.507\n",
            "Epoch:20   Loss:0.279   Val error:0.523   Best val error:0.507\n",
            "Epoch:21   Loss:0.27   Val error:0.528   Best val error:0.507\n",
            "Epoch:22   Loss:0.252   Val error:0.559   Best val error:0.507\n",
            "LR adjusted\n",
            "Epoch:23   Loss:0.237   Val error:0.53   Best val error:0.507\n",
            "LR adjusted\n",
            "Epoch:24   Loss:0.219   Val error:0.564   Best val error:0.507\n",
            "LR adjusted\n",
            "Epoch:25   Loss:0.201   Val error:0.52   Best val error:0.507\n",
            "LR adjusted\n",
            "Epoch:26   Loss:0.187   Val error:0.59   Best val error:0.507\n",
            "LR adjusted\n",
            "Epoch:27   Loss:0.175   Val error:0.543   Best val error:0.507\n",
            "LR adjusted\n",
            "Epoch:28   Loss:0.162   Val error:0.531   Best val error:0.507\n",
            "LR adjusted\n",
            "Epoch:29   Loss:0.152   Val error:0.551   Best val error:0.507\n",
            "LR adjusted\n"
          ],
          "name": "stdout"
        },
        {
          "output_type": "display_data",
          "data": {
            "image/png": "[encoded data removed]",
            "text/plain": [
              "<Figure size 432x288 with 1 Axes>"
            ]
          },
          "metadata": {
            "tags": [],
            "needs_background": "light"
          }
        },
        {
          "output_type": "stream",
          "text": [
            "Best epoch: 19\n"
          ],
          "name": "stdout"
        }
      ]
    },
    {
      "cell_type": "code",
      "metadata": {
        "colab": {
          "base_uri": "https://localhost:8080/"
        },
        "id": "yG5KxYR_BBRn",
        "outputId": "77bd7947-5e20-4ed8-aeb3-e545ce688c52"
      },
      "source": [
        "e1_acc = test_model(device, CNN_e, 'q1_ckpt_CNN_e1_best', test_dataset2)\n",
        "print('Test accuracy:',e1_acc,'%')"
      ],
      "execution_count": null,
      "outputs": [
        {
          "output_type": "stream",
          "text": [
            "CNN_e(\n",
            "  (convLayers): Sequential(\n",
            "    (0): Conv2d(3, 32, kernel_size=(5, 5), stride=(1, 1), padding=(2, 2))\n",
            "    (1): BatchNorm2d(32, eps=1e-05, momentum=0.1, affine=True, track_running_stats=True)\n",
            "    (2): LeakyReLU(negative_slope=0.1, inplace=True)\n",
            "    (3): MaxPool2d(kernel_size=2, stride=2, padding=0, dilation=1, ceil_mode=False)\n",
            "    (4): Dropout(p=0.1, inplace=False)\n",
            "    (5): Conv2d(32, 64, kernel_size=(3, 3), stride=(1, 1), padding=(1, 1))\n",
            "    (6): BatchNorm2d(64, eps=1e-05, momentum=0.1, affine=True, track_running_stats=True)\n",
            "    (7): LeakyReLU(negative_slope=0.1, inplace=True)\n",
            "    (8): MaxPool2d(kernel_size=2, stride=2, padding=0, dilation=1, ceil_mode=False)\n",
            "    (9): Dropout(p=0.1, inplace=False)\n",
            "    (10): Conv2d(64, 128, kernel_size=(3, 3), stride=(1, 1), padding=(1, 1))\n",
            "    (11): BatchNorm2d(128, eps=1e-05, momentum=0.1, affine=True, track_running_stats=True)\n",
            "    (12): LeakyReLU(negative_slope=0.1, inplace=True)\n",
            "    (13): MaxPool2d(kernel_size=2, stride=2, padding=0, dilation=1, ceil_mode=False)\n",
            "    (14): Dropout(p=0.1, inplace=False)\n",
            "  )\n",
            "  (denseLayers): Sequential(\n",
            "    (0): Linear(in_features=2048, out_features=512, bias=True)\n",
            "    (1): LeakyReLU(negative_slope=0.1, inplace=True)\n",
            "    (2): Dropout(p=0.1, inplace=False)\n",
            "    (3): Linear(in_features=512, out_features=10, bias=True)\n",
            "  )\n",
            ")\n",
            "Test accuracy: 83.25 %\n"
          ],
          "name": "stdout"
        }
      ]
    },
    {
      "cell_type": "markdown",
      "metadata": {
        "id": "c3DmU2vb-1rv"
      },
      "source": [
        "## Training the best model further"
      ]
    },
    {
      "cell_type": "code",
      "metadata": {
        "colab": {
          "base_uri": "https://localhost:8080/",
          "height": 1000
        },
        "id": "o33dexgg-3B7",
        "outputId": "3f5d8be8-726f-4cd9-a062-3ea23a231eb1"
      },
      "source": [
        "cnne_trainer = CNN_Trainer(device, CNN_e, 'CNN_e', load_ckpt='q1_ckpt_CNN_e', lr=0.01,  epochs=100, lr_decay=0.95, weight_decay=1e-4, trainset=train_dataset2, valset=test_dataset2)\n",
        "e_best_epoch, e_losses, e_errors = cnne_trainer.train()\n",
        "plot_train(e_losses, e_errors)\n",
        "print('Best epoch:',e_best_epoch)"
      ],
      "execution_count": null,
      "outputs": [
        {
          "output_type": "stream",
          "text": [
            "cuda Tesla T4\n",
            "Epoch:30   Loss:0.268   Val error:0.514   Best val error:0.486\n",
            "Epoch:31   Loss:0.26   Val error:0.529   Best val error:0.486\n",
            "Epoch:32   Loss:0.253   Val error:0.506   Best val error:0.486\n",
            "LR adjusted\n",
            "Epoch:33   Loss:0.243   Val error:0.513   Best val error:0.486\n",
            "LR adjusted\n",
            "Epoch:34   Loss:0.232   Val error:0.499   Best val error:0.486\n",
            "LR adjusted\n",
            "Epoch:35   Loss:0.219   Val error:0.505   Best val error:0.486\n",
            "LR adjusted\n",
            "Epoch:36   Loss:0.205   Val error:0.508   Best val error:0.486\n",
            "LR adjusted\n",
            "Epoch:37   Loss:0.204   Val error:0.498   Best val error:0.486\n",
            "LR adjusted\n",
            "Epoch:38   Loss:0.195   Val error:0.493   Best val error:0.486\n",
            "LR adjusted\n",
            "Epoch:39   Loss:0.182   Val error:0.497   Best val error:0.486\n",
            "LR adjusted\n",
            "Epoch:40   Loss:0.179   Val error:0.495   Best val error:0.486\n",
            "LR adjusted\n",
            "Epoch:41   Loss:0.176   Val error:0.502   Best val error:0.486\n",
            "LR adjusted\n",
            "Epoch:42   Loss:0.164   Val error:0.498   Best val error:0.486\n",
            "LR adjusted\n",
            "Epoch:43   Loss:0.162   Val error:0.494   Best val error:0.486\n",
            "LR adjusted\n",
            "Epoch:44   Loss:0.157   Val error:0.502   Best val error:0.486\n",
            "LR adjusted\n",
            "Epoch:45   Loss:0.153   Val error:0.512   Best val error:0.486\n",
            "LR adjusted\n",
            "Epoch:46   Loss:0.148   Val error:0.495   Best val error:0.486\n",
            "LR adjusted\n",
            "Epoch:47   Loss:0.14   Val error:0.497   Best val error:0.486\n",
            "LR adjusted\n",
            "Epoch:48   Loss:0.143   Val error:0.509   Best val error:0.486\n",
            "LR adjusted\n",
            "Epoch:49   Loss:0.134   Val error:0.506   Best val error:0.486\n",
            "LR adjusted\n",
            "Epoch:50   Loss:0.133   Val error:0.495   Best val error:0.486\n",
            "LR adjusted\n",
            "Epoch:51   Loss:0.128   Val error:0.502   Best val error:0.486\n",
            "LR adjusted\n",
            "Epoch:52   Loss:0.123   Val error:0.511   Best val error:0.486\n",
            "LR adjusted\n",
            "Epoch:53   Loss:0.121   Val error:0.514   Best val error:0.486\n",
            "LR adjusted\n",
            "Epoch:54   Loss:0.119   Val error:0.51   Best val error:0.486\n",
            "LR adjusted\n",
            "Epoch:55   Loss:0.114   Val error:0.498   Best val error:0.486\n",
            "LR adjusted\n",
            "Epoch:56   Loss:0.114   Val error:0.516   Best val error:0.486\n",
            "LR adjusted\n",
            "Epoch:57   Loss:0.108   Val error:0.503   Best val error:0.486\n",
            "LR adjusted\n",
            "Epoch:58   Loss:0.11   Val error:0.5   Best val error:0.486\n",
            "LR adjusted\n",
            "Epoch:59   Loss:0.108   Val error:0.513   Best val error:0.486\n",
            "LR adjusted\n",
            "Epoch:60   Loss:0.105   Val error:0.505   Best val error:0.486\n",
            "LR adjusted\n",
            "Epoch:61   Loss:0.105   Val error:0.501   Best val error:0.486\n",
            "LR adjusted\n",
            "Epoch:62   Loss:0.102   Val error:0.511   Best val error:0.486\n",
            "LR adjusted\n",
            "Epoch:63   Loss:0.101   Val error:0.512   Best val error:0.486\n",
            "LR adjusted\n",
            "Epoch:64   Loss:0.099   Val error:0.503   Best val error:0.486\n",
            "LR adjusted\n",
            "Epoch:65   Loss:0.1   Val error:0.504   Best val error:0.486\n",
            "LR adjusted\n",
            "Epoch:66   Loss:0.097   Val error:0.509   Best val error:0.486\n",
            "LR adjusted\n",
            "Epoch:67   Loss:0.096   Val error:0.501   Best val error:0.486\n",
            "LR adjusted\n",
            "Epoch:68   Loss:0.095   Val error:0.523   Best val error:0.486\n",
            "LR adjusted\n",
            "Epoch:69   Loss:0.095   Val error:0.5   Best val error:0.486\n",
            "LR adjusted\n",
            "Epoch:70   Loss:0.092   Val error:0.5   Best val error:0.486\n",
            "LR adjusted\n",
            "Epoch:71   Loss:0.092   Val error:0.514   Best val error:0.486\n",
            "LR adjusted\n",
            "Epoch:72   Loss:0.09   Val error:0.509   Best val error:0.486\n",
            "LR adjusted\n",
            "Epoch:73   Loss:0.088   Val error:0.503   Best val error:0.486\n",
            "LR adjusted\n",
            "Epoch:74   Loss:0.088   Val error:0.507   Best val error:0.486\n",
            "LR adjusted\n",
            "Epoch:75   Loss:0.088   Val error:0.501   Best val error:0.486\n",
            "LR adjusted\n",
            "Epoch:76   Loss:0.088   Val error:0.502   Best val error:0.486\n",
            "LR adjusted\n",
            "Epoch:77   Loss:0.085   Val error:0.5   Best val error:0.486\n",
            "LR adjusted\n",
            "Epoch:78   Loss:0.085   Val error:0.51   Best val error:0.486\n",
            "LR adjusted\n",
            "Epoch:79   Loss:0.084   Val error:0.514   Best val error:0.486\n",
            "LR adjusted\n",
            "Epoch:80   Loss:0.083   Val error:0.501   Best val error:0.486\n",
            "LR adjusted\n",
            "Epoch:81   Loss:0.082   Val error:0.498   Best val error:0.486\n",
            "LR adjusted\n",
            "Epoch:82   Loss:0.085   Val error:0.51   Best val error:0.486\n",
            "LR adjusted\n",
            "Epoch:83   Loss:0.08   Val error:0.512   Best val error:0.486\n",
            "LR adjusted\n",
            "Epoch:84   Loss:0.083   Val error:0.52   Best val error:0.486\n",
            "LR adjusted\n",
            "Epoch:85   Loss:0.083   Val error:0.512   Best val error:0.486\n",
            "LR adjusted\n",
            "Epoch:86   Loss:0.081   Val error:0.504   Best val error:0.486\n",
            "LR adjusted\n",
            "Epoch:87   Loss:0.081   Val error:0.514   Best val error:0.486\n",
            "LR adjusted\n",
            "Epoch:88   Loss:0.082   Val error:0.509   Best val error:0.486\n",
            "LR adjusted\n",
            "Epoch:89   Loss:0.082   Val error:0.509   Best val error:0.486\n",
            "LR adjusted\n",
            "Epoch:90   Loss:0.079   Val error:0.506   Best val error:0.486\n",
            "LR adjusted\n",
            "Epoch:91   Loss:0.08   Val error:0.51   Best val error:0.486\n",
            "LR adjusted\n",
            "Epoch:92   Loss:0.079   Val error:0.513   Best val error:0.486\n",
            "LR adjusted\n",
            "Epoch:93   Loss:0.081   Val error:0.506   Best val error:0.486\n",
            "LR adjusted\n",
            "Epoch:94   Loss:0.081   Val error:0.523   Best val error:0.486\n",
            "LR adjusted\n",
            "Epoch:95   Loss:0.078   Val error:0.516   Best val error:0.486\n",
            "LR adjusted\n",
            "Epoch:96   Loss:0.078   Val error:0.512   Best val error:0.486\n",
            "LR adjusted\n",
            "Epoch:97   Loss:0.078   Val error:0.523   Best val error:0.486\n",
            "LR adjusted\n",
            "Epoch:98   Loss:0.079   Val error:0.504   Best val error:0.486\n",
            "LR adjusted\n",
            "Epoch:99   Loss:0.079   Val error:0.505   Best val error:0.486\n",
            "LR adjusted\n"
          ],
          "name": "stdout"
        },
        {
          "output_type": "display_data",
          "data": {
            "image/png": "[encoded data removed]",
            "text/plain": [
              "<Figure size 432x288 with 1 Axes>"
            ]
          },
          "metadata": {
            "tags": [],
            "needs_background": "light"
          }
        },
        {
          "output_type": "stream",
          "text": [
            "Best epoch: 29\n"
          ],
          "name": "stdout"
        }
      ]
    },
    {
      "cell_type": "code",
      "metadata": {
        "colab": {
          "base_uri": "https://localhost:8080/"
        },
        "id": "tTsDSS1_EJ-0",
        "outputId": "1cfc8899-5aa3-4705-b2c0-29672f1b5a7f"
      },
      "source": [
        "e_acc = test_model(device, CNN_e, 'q1_ckpt_CNN_e_best', test_dataset2)\n",
        "print('Test accuracy:',e_acc,'%')"
      ],
      "execution_count": null,
      "outputs": [
        {
          "output_type": "stream",
          "text": [
            "CNN_e(\n",
            "  (convLayers): Sequential(\n",
            "    (0): Conv2d(3, 32, kernel_size=(5, 5), stride=(1, 1), padding=(2, 2))\n",
            "    (1): BatchNorm2d(32, eps=1e-05, momentum=0.1, affine=True, track_running_stats=True)\n",
            "    (2): LeakyReLU(negative_slope=0.1, inplace=True)\n",
            "    (3): MaxPool2d(kernel_size=2, stride=2, padding=0, dilation=1, ceil_mode=False)\n",
            "    (4): Dropout(p=0.1, inplace=False)\n",
            "    (5): Conv2d(32, 64, kernel_size=(3, 3), stride=(1, 1), padding=(1, 1))\n",
            "    (6): BatchNorm2d(64, eps=1e-05, momentum=0.1, affine=True, track_running_stats=True)\n",
            "    (7): LeakyReLU(negative_slope=0.1, inplace=True)\n",
            "    (8): MaxPool2d(kernel_size=2, stride=2, padding=0, dilation=1, ceil_mode=False)\n",
            "    (9): Dropout(p=0.1, inplace=False)\n",
            "    (10): Conv2d(64, 128, kernel_size=(3, 3), stride=(1, 1), padding=(1, 1))\n",
            "    (11): BatchNorm2d(128, eps=1e-05, momentum=0.1, affine=True, track_running_stats=True)\n",
            "    (12): LeakyReLU(negative_slope=0.1, inplace=True)\n",
            "    (13): MaxPool2d(kernel_size=2, stride=2, padding=0, dilation=1, ceil_mode=False)\n",
            "    (14): Dropout(p=0.1, inplace=False)\n",
            "  )\n",
            "  (denseLayers): Sequential(\n",
            "    (0): Linear(in_features=2048, out_features=512, bias=True)\n",
            "    (1): LeakyReLU(negative_slope=0.1, inplace=True)\n",
            "    (2): Dropout(p=0.1, inplace=False)\n",
            "    (3): Linear(in_features=512, out_features=10, bias=True)\n",
            "  )\n",
            ")\n",
            "Test accuracy: 84.0 %\n"
          ],
          "name": "stdout"
        }
      ]
    },
    {
      "cell_type": "markdown",
      "metadata": {
        "id": "1pe5hB9Pa4XK"
      },
      "source": [
        "### Comparison of accuracies of models : D > C > B > Baseline > A  \n",
        "Details about variations used in the networks are mentioned above"
      ]
    },
    {
      "cell_type": "code",
      "metadata": {
        "colab": {
          "base_uri": "https://localhost:8080/"
        },
        "id": "JHnsIdFSbDPw",
        "outputId": "e7972500-22f3-48e6-c535-d602571d100e"
      },
      "source": [
        "print('D: 3 Conv blocks: ',d_acc)\n",
        "print('C: 2 Conv blocks: ',c_acc)\n",
        "print('B: 2 dense layers: ',b_acc)\n",
        "print('Baseline: ',base_acc)\n",
        "print('A: No batchnorm: ',a_acc)"
      ],
      "execution_count": null,
      "outputs": [
        {
          "output_type": "stream",
          "text": [
            "D: 3 Conv blocks:  81.6\n",
            "C: 2 Conv blocks:  74.7\n",
            "B: 2 dense layers:  67.35\n",
            "Baseline:  65.96\n",
            "A: No batchnorm:  62.7\n"
          ],
          "name": "stdout"
        }
      ]
    },
    {
      "cell_type": "markdown",
      "metadata": {
        "id": "iVQ2E4i4tAwz"
      },
      "source": [
        "________________________________________________________________________________"
      ]
    },
    {
      "cell_type": "code",
      "metadata": {
        "id": "L9p5AY_5s_Wp"
      },
      "source": [
        "class CNN_try(nn.Module):\n",
        "    def __init__(self):\n",
        "        super(CNN_try, self).__init__()\n",
        "        self.convLayers = nn.Sequential(\n",
        "            # block 1\n",
        "            nn.Conv2d(in_channels=3, out_channels=32, kernel_size=5, padding=2),\n",
        "            nn.BatchNorm2d(32),\n",
        "            nn.LeakyReLU(0.1,inplace=True),\n",
        "            nn.Dropout(0.1),\n",
        "            nn.AvgPool2d(kernel_size=2, stride=2),\n",
        "\n",
        "            # block 2\n",
        "            nn.Conv2d(in_channels=32, out_channels=64, kernel_size=3, padding=1),\n",
        "            nn.BatchNorm2d(64),\n",
        "            nn.LeakyReLU(0.1,inplace=True),\n",
        "            nn.Dropout(0.1),\n",
        "            nn.AvgPool2d(kernel_size=2, stride=2), # 8x8x64\n",
        "\n",
        "            # block 3\n",
        "            nn.Conv2d(in_channels=64, out_channels=128, kernel_size=3, padding=1),\n",
        "            nn.BatchNorm2d(128),\n",
        "            nn.LeakyReLU(0.1,inplace=True),\n",
        "            nn.Dropout(0.1),\n",
        "            nn.AvgPool2d(kernel_size=2, stride=2) # 4x4x128\n",
        "        )\n",
        "        self.denseLayers = nn.Sequential(\n",
        "            nn.Dropout(0.1),\n",
        "            nn.Linear(2048, 512),\n",
        "            nn.LeakyReLU(0.1,inplace=True),\n",
        "            nn.Linear(512, 10),\n",
        "        )\n",
        "\n",
        "    def forward(self,x):\n",
        "        x = self.convLayers(x)\n",
        "        x = torch.flatten(x, start_dim=1)\n",
        "        # print('after conv',x.shape)\n",
        "        x = self.denseLayers(x)\n",
        "        return x"
      ],
      "execution_count": null,
      "outputs": []
    },
    {
      "cell_type": "code",
      "metadata": {
        "colab": {
          "base_uri": "https://localhost:8080/",
          "height": 754
        },
        "id": "OZGjwdt_tTn8",
        "outputId": "41648486-7307-4b27-bf50-4b06a6654553"
      },
      "source": [
        "cnntry_trainer = CNN_Trainer(device, CNN_try, 'CNN_try', lr=0.01, epochs=20, lr_decay=0.95, weight_decay=1e-4)\n",
        "try_best_epoch, try_losses, try_errors = cnntry_trainer.train()\n",
        "plot_train(try_losses, try_errors)\n",
        "print('Best epoch:',try_best_epoch)"
      ],
      "execution_count": null,
      "outputs": [
        {
          "output_type": "stream",
          "text": [
            "cuda Tesla P100-PCIE-16GB\n",
            "Epoch:0   Loss:1.416   Val error:1.168   Best val error:1.168\n",
            "Epoch:1   Loss:1.057   Val error:0.998   Best val error:0.998\n",
            "Epoch:2   Loss:0.898   Val error:0.914   Best val error:0.914\n",
            "Epoch:3   Loss:0.796   Val error:0.864   Best val error:0.864\n",
            "Epoch:4   Loss:0.723   Val error:0.846   Best val error:0.846\n",
            "Epoch:5   Loss:0.658   Val error:0.721   Best val error:0.721\n",
            "Epoch:6   Loss:0.603   Val error:0.74   Best val error:0.721\n",
            "Epoch:7   Loss:0.558   Val error:0.671   Best val error:0.671\n",
            "Epoch:8   Loss:0.52   Val error:0.675   Best val error:0.671\n",
            "Epoch:9   Loss:0.481   Val error:0.619   Best val error:0.619\n",
            "Epoch:10   Loss:0.445   Val error:0.64   Best val error:0.619\n",
            "Epoch:11   Loss:0.415   Val error:0.631   Best val error:0.619\n",
            "Epoch:12   Loss:0.381   Val error:0.632   Best val error:0.619\n",
            "LR adjusted\n",
            "Epoch:13   Loss:0.346   Val error:0.591   Best val error:0.591\n",
            "Epoch:14   Loss:0.32   Val error:0.635   Best val error:0.591\n",
            "Epoch:15   Loss:0.295   Val error:0.633   Best val error:0.591\n",
            "Epoch:16   Loss:0.274   Val error:0.632   Best val error:0.591\n",
            "LR adjusted\n",
            "Epoch:17   Loss:0.244   Val error:0.602   Best val error:0.591\n",
            "LR adjusted\n",
            "Epoch:18   Loss:0.218   Val error:0.608   Best val error:0.591\n",
            "LR adjusted\n",
            "Epoch:19   Loss:0.197   Val error:0.637   Best val error:0.591\n",
            "LR adjusted\n"
          ],
          "name": "stdout"
        },
        {
          "output_type": "display_data",
          "data": {
            "image/png": "[encoded data removed]",
            "text/plain": [
              "<Figure size 432x288 with 1 Axes>"
            ]
          },
          "metadata": {
            "tags": [],
            "needs_background": "light"
          }
        },
        {
          "output_type": "stream",
          "text": [
            "Best epoch: 13\n"
          ],
          "name": "stdout"
        }
      ]
    },
    {
      "cell_type": "code",
      "metadata": {
        "colab": {
          "base_uri": "https://localhost:8080/"
        },
        "id": "-ALMTLN7tm7z",
        "outputId": "d2adf809-0cf3-4e70-d4ae-813043df2f36"
      },
      "source": [
        "try_acc = test_model(device, CNN_try, 'q1_ckpt_CNN_try_best', test_dataset)\n",
        "print('Test accuracy:',try_acc,'%')"
      ],
      "execution_count": null,
      "outputs": [
        {
          "output_type": "stream",
          "text": [
            "CNN_try(\n",
            "  (convLayers): Sequential(\n",
            "    (0): Conv2d(3, 32, kernel_size=(5, 5), stride=(1, 1), padding=(2, 2))\n",
            "    (1): BatchNorm2d(32, eps=1e-05, momentum=0.1, affine=True, track_running_stats=True)\n",
            "    (2): LeakyReLU(negative_slope=0.1, inplace=True)\n",
            "    (3): Dropout(p=0.1, inplace=False)\n",
            "    (4): AvgPool2d(kernel_size=2, stride=2, padding=0)\n",
            "    (5): Conv2d(32, 64, kernel_size=(3, 3), stride=(1, 1), padding=(1, 1))\n",
            "    (6): BatchNorm2d(64, eps=1e-05, momentum=0.1, affine=True, track_running_stats=True)\n",
            "    (7): LeakyReLU(negative_slope=0.1, inplace=True)\n",
            "    (8): Dropout(p=0.1, inplace=False)\n",
            "    (9): AvgPool2d(kernel_size=2, stride=2, padding=0)\n",
            "    (10): Conv2d(64, 128, kernel_size=(3, 3), stride=(1, 1), padding=(1, 1))\n",
            "    (11): BatchNorm2d(128, eps=1e-05, momentum=0.1, affine=True, track_running_stats=True)\n",
            "    (12): LeakyReLU(negative_slope=0.1, inplace=True)\n",
            "    (13): Dropout(p=0.1, inplace=False)\n",
            "    (14): AvgPool2d(kernel_size=2, stride=2, padding=0)\n",
            "  )\n",
            "  (denseLayers): Sequential(\n",
            "    (0): Dropout(p=0.1, inplace=False)\n",
            "    (1): Linear(in_features=2048, out_features=512, bias=True)\n",
            "    (2): LeakyReLU(negative_slope=0.1, inplace=True)\n",
            "    (3): Linear(in_features=512, out_features=10, bias=True)\n",
            "  )\n",
            ")\n",
            "Test accuracy: 80.33 %\n"
          ],
          "name": "stdout"
        }
      ]
    }
  ]
}