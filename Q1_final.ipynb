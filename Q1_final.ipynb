{
  "nbformat": 4,
  "nbformat_minor": 0,
  "metadata": {
    "colab": {
      "name": "q1_final.ipynb",
      "provenance": [],
      "collapsed_sections": []
    },
    "kernelspec": {
      "name": "python3",
      "display_name": "Python 3"
    },
    "language_info": {
      "name": "python"
    },
    "accelerator": "GPU"
  },
  "cells": [
    {
      "cell_type": "code",
      "metadata": {
        "colab": {
          "base_uri": "https://localhost:8080/"
        },
        "id": "875y1s6eJRf0",
        "outputId": "be89b0bb-fc9b-4ecc-900e-289ccaebf803"
      },
      "source": [
        "from google.colab import drive\n",
        "drive.mount('/content/drive')\n",
        "%cd /content/drive/MyDrive/SMAI/Assignment3/\n",
        "!pwd"
      ],
      "execution_count": null,
      "outputs": [
        {
          "output_type": "stream",
          "text": [
            "Mounted at /content/drive\n",
            "/content/drive/MyDrive/SMAI/Assignment3\n",
            "/content/drive/MyDrive/SMAI/Assignment3\n"
          ],
          "name": "stdout"
        }
      ]
    },
    {
      "cell_type": "code",
      "metadata": {
        "id": "T6qDCHqntLRE"
      },
      "source": [
        "import torch\n",
        "import torch.nn as nn\n",
        "import torchvision\n",
        "import numpy as np\n",
        "import matplotlib.pyplot as plt\n",
        "import torch.nn as nn\n",
        "import torch.nn.functional as F\n",
        "from torchvision.datasets import CIFAR10\n",
        "from torchvision.transforms import *\n",
        "from torchvision.utils import make_grid\n",
        "from torch.utils.data.dataloader import DataLoader\n",
        "from torch.utils.data import random_split\n",
        "import os\n",
        "import time\n",
        "import gc\n",
        "import shutil\n",
        "import h5py\n",
        "from sklearn.preprocessing import OneHotEncoder\n",
        "%matplotlib inline"
      ],
      "execution_count": null,
      "outputs": []
    },
    {
      "cell_type": "code",
      "metadata": {
        "colab": {
          "base_uri": "https://localhost:8080/"
        },
        "id": "IJ_ubjIwJ-Mi",
        "outputId": "67bc768f-0110-4302-c353-56876c4e283e"
      },
      "source": [
        "transform = transforms.Compose([transforms.ToTensor(),\n",
        "     transforms.Normalize((0.5, 0.5, 0.5), (0.5, 0.5, 0.5))])\n",
        "os.makedirs(\"data/cifar\", exist_ok=True)\n",
        "train_dataset = CIFAR10(root='data/cifar', download=True, transform=transform)\n",
        "test_dataset = CIFAR10(root='data/cifar', train=False, transform=transform)\n",
        "print(len(train_dataset), len(test_dataset))"
      ],
      "execution_count": null,
      "outputs": [
        {
          "output_type": "stream",
          "text": [
            "Files already downloaded and verified\n",
            "50000 10000\n"
          ],
          "name": "stdout"
        }
      ]
    },
    {
      "cell_type": "code",
      "metadata": {
        "id": "LtxZzDcnYAGS"
      },
      "source": [
        "device = torch.device(\"cuda\" if torch.cuda.is_available() else \"cpu\")\n",
        "\n",
        "def save_checkpoint(state, is_best, epoch, name):\n",
        "    filename = 'q1_checkpoints/q1_ckpt_'+name\n",
        "    torch.save(state, filename)\n",
        "    if is_best:\n",
        "        shutil.copyfile(filename, filename+'_best')\n",
        "\n",
        "def test_model(device, model_class, ckpt, test_data):\n",
        "    model = model_class().cuda()\n",
        "    print(model)\n",
        "    checkpoint = torch.load('q1_checkpoints/'+ckpt)\n",
        "    model.load_state_dict(checkpoint['model_state_dict'])\n",
        "    test_loader = DataLoader(test_data, 64, num_workers=2, pin_memory=True)  \n",
        "    sm = nn.Softmax(dim=1)  \n",
        "    total_correct = 0\n",
        "    total_images = 0\n",
        "    model.eval()        \n",
        "    for i, (inputs, labels) in enumerate(test_loader):\n",
        "        inputs = inputs.to(device)\n",
        "        labels = labels.to(device)\n",
        "        with torch.set_grad_enabled(False):\n",
        "            outputs = model(inputs)\n",
        "            sm_outputs = sm(outputs)\n",
        "            outputs = torch.argmax(outputs, dim=1)\n",
        "            total_correct += (outputs == labels).sum().item()\n",
        "            total_images += len(labels)\n",
        "        torch.cuda.empty_cache()\n",
        "        gc.collect()\n",
        "    model_accuracy = total_correct / total_images * 100\n",
        "    return model_accuracy\n",
        "\n",
        "def plot_train(losses, errors):\n",
        "    plt.plot(range(len(losses)), losses, label = \"Train loss\", color='blue', markersize=5, marker='o',markerfacecolor='blue')\n",
        "    plt.plot(range(len(errors)), errors, label = \"Val loss\", color='red', markersize=5, marker='o',markerfacecolor='red')\n",
        "    plt.xlabel('Epochs')\n",
        "    plt.ylabel('Loss')\n",
        "    plt.title('Train vs Val loss')\n",
        "    plt.legend()\n",
        "    plt.show()"
      ],
      "execution_count": null,
      "outputs": []
    },
    {
      "cell_type": "markdown",
      "metadata": {
        "id": "E-QtzxqBYv-R"
      },
      "source": [
        "## Common Trainer class"
      ]
    },
    {
      "cell_type": "code",
      "metadata": {
        "id": "LKyYDljEIkDx"
      },
      "source": [
        "class CNN_Trainer(object):\n",
        "    def __init__(self, device, model_class, ckpt_name, load_ckpt=None, epochs=20, batch_size=128, lr=0.001, optm='sgd', lr_decay=None, weight_decay=0, trainset=train_dataset, valset=test_dataset):\n",
        "        self.device = device\n",
        "        self.lr =  lr\n",
        "        self.momentum = 0.9\n",
        "        self.lr_decay = lr_decay\n",
        "        self.weight_decay = weight_decay\n",
        "        self.batch_size = batch_size\n",
        "        self.start_epoch = 0\n",
        "        self.epochs = epochs\n",
        "        self.workers = 2\n",
        "        self.seed = int(time.time())\n",
        "        self.print_freq = 1\n",
        "        self.checkpoint_path = load_ckpt #'q1_checkpoints/q1_ckpt_CNN_a_best2'\n",
        "        self.best_error = 1e8\n",
        "        self.best_epoch = 0\n",
        "        self.ckpt_name = ckpt_name\n",
        "        self.loss_history = []\n",
        "        self.error_history = []\n",
        "        self.trainset = trainset\n",
        "        self.valset = valset\n",
        "        torch.cuda.manual_seed(self.seed)\n",
        "        print(self.device,torch.cuda.get_device_name(0))\n",
        "\n",
        "        self.model = model_class().cuda()\n",
        "        # print(self.model)\n",
        "        if optm=='sgd':\n",
        "            self.optimizer = torch.optim.SGD(self.model.parameters(), self.lr, momentum=self.momentum, weight_decay=self.weight_decay)\n",
        "        elif optm=='adam':\n",
        "            self.optimizer = torch.optim.Adam(self.model.parameters(), self.lr)\n",
        "        self.criterion = nn.CrossEntropyLoss().cuda()\n",
        "        \n",
        "        if self.checkpoint_path:\n",
        "            checkpoint = torch.load(self.checkpoint_path)\n",
        "            self.model.load_state_dict(checkpoint['model_state_dict'])\n",
        "            self.optimizer.load_state_dict(checkpoint['optimizer_state_dict'])\n",
        "            self.start_epoch = checkpoint['epoch']+1\n",
        "            loss = checkpoint['loss']\n",
        "            self.best_error = checkpoint['best_error']\n",
        "            self.best_epoch = checkpoint['best_epoch']\n",
        "        \n",
        "    def train(self):\n",
        "        for epoch in range(self.start_epoch, self.epochs):\n",
        "            loss = self.train_epoch(epoch)\n",
        "            if epoch%1 != 0:\n",
        "                print('Epoch:'+str(epoch),'  Loss:'+str(round(loss,3)))\n",
        "                continue\n",
        "            error = self.validate(epoch)\n",
        "            if error < self.best_error:\n",
        "                is_best = True\n",
        "                self.best_epoch = epoch\n",
        "            else:\n",
        "                is_best = False\n",
        "            self.loss_history.append(loss)\n",
        "            self.error_history.append(error)\n",
        "            self.best_error = min(error, self.best_error)\n",
        "            print('Epoch:'+str(epoch),'  Loss:'+str(round(loss,3)),'  Val error:'+str(round(error,3)),'  Best val error:'+str(round(self.best_error,3)))\n",
        "            save_checkpoint({\n",
        "                'epoch': epoch,\n",
        "                'model_state_dict': self.model.state_dict(),\n",
        "                'optimizer_state_dict': self.optimizer.state_dict(),\n",
        "                'loss': loss,\n",
        "                'best_error': self.best_error,\n",
        "                'best_epoch': self.best_epoch\n",
        "            }, is_best, epoch, self.ckpt_name)\n",
        "            if self.lr_decay and epoch-self.best_epoch>2:\n",
        "                self.adjust_learning_rate(epoch)\n",
        "        return self.best_epoch, self.loss_history, self.error_history\n",
        "\n",
        "    def train_epoch(self, cur_epoch):\n",
        "        train_loader = DataLoader(self.trainset, self.batch_size, shuffle=True, num_workers=self.workers, pin_memory=True)        \n",
        "        self.model.train()        \n",
        "        losses = 0\n",
        "        for i, (inputs, labels) in enumerate(train_loader):\n",
        "            inputs = inputs.to(self.device)\n",
        "            labels = labels.to(self.device)\n",
        "            with torch.set_grad_enabled(True):\n",
        "                outputs = self.model(inputs)\n",
        "                loss = self.criterion(outputs, labels)\n",
        "                losses += loss.detach().cpu().item()\n",
        "                self.optimizer.zero_grad()\n",
        "                loss.backward()\n",
        "                self.optimizer.step()\n",
        "            torch.cuda.empty_cache()\n",
        "            gc.collect()\n",
        "        return losses/len(train_loader)\n",
        "\n",
        "    def validate(self, cur_epoch):\n",
        "        val_loader = DataLoader(self.valset, self.batch_size, num_workers=self.workers, pin_memory=True)        \n",
        "        self.model.eval()        \n",
        "        errors = 0\n",
        "        for i, (inputs, labels) in enumerate(val_loader):\n",
        "            inputs = inputs.to(self.device)\n",
        "            labels = labels.to(self.device)\n",
        "            with torch.set_grad_enabled(False):\n",
        "                outputs = self.model(inputs)\n",
        "                error = self.criterion(outputs, labels)\n",
        "                errors += error.detach().cpu().item()\n",
        "            torch.cuda.empty_cache()\n",
        "            gc.collect()\n",
        "        return errors/len(val_loader)\n",
        "\n",
        "    def adjust_learning_rate(self, epoch):\n",
        "        for param_group in self.optimizer.param_groups:\n",
        "            param_group['lr'] *= self.lr_decay\n",
        "            print('LR adjusted')"
      ],
      "execution_count": null,
      "outputs": []
    },
    {
      "cell_type": "markdown",
      "metadata": {
        "id": "VH_pcb2hkA0D"
      },
      "source": [
        "# Baseline model (given in figure)  \n",
        "--> 1 block of : Conv2D -> BatchNorm2D -> MaxPooling2D  \n",
        "--> 1 dense layer  \n",
        "--> ReLU activations"
      ]
    },
    {
      "cell_type": "code",
      "metadata": {
        "id": "XIqnz10RkLww"
      },
      "source": [
        "class CNN_base(nn.Module):\n",
        "    def __init__(self):\n",
        "        super(CNN_base, self).__init__()\n",
        "        self.convLayers = nn.Sequential(\n",
        "            # block 1\n",
        "            nn.Conv2d(in_channels=3, out_channels=64, kernel_size=3, padding=1),\n",
        "            nn.BatchNorm2d(64),\n",
        "            nn.ReLU(inplace=True),\n",
        "            nn.MaxPool2d(kernel_size=2, stride=2) # 16x16x64 = 16384\n",
        "        )\n",
        "        self.denseLayers = nn.Sequential(\n",
        "            nn.Linear(16384, 10)\n",
        "        )\n",
        "\n",
        "    def forward(self,x):\n",
        "        x = self.convLayers(x)\n",
        "        x = torch.flatten(x, start_dim=1)\n",
        "        # print('after conv',x.shape)\n",
        "        x = self.denseLayers(x)\n",
        "        return x"
      ],
      "execution_count": null,
      "outputs": []
    },
    {
      "cell_type": "code",
      "metadata": {
        "colab": {
          "base_uri": "https://localhost:8080/",
          "height": 669
        },
        "id": "qxZXvSfmk74p",
        "outputId": "f2136962-b46a-417b-93e6-4d0fdc519954"
      },
      "source": [
        "cnnbase_trainer = CNN_Trainer(device, CNN_base, 'CNN_base', lr=0.001)\n",
        "base_best_epoch, base_losses, base_errors = cnnbase_trainer.train()\n",
        "plot_train(base_losses, base_errors)\n",
        "print('Best epoch:',base_best_epoch)"
      ],
      "execution_count": null,
      "outputs": [
        {
          "output_type": "stream",
          "text": [
            "cuda Tesla T4\n",
            "Epoch:0   Loss:1.512   Val error:1.269   Best val error:1.269\n",
            "Epoch:1   Loss:1.205   Val error:1.194   Best val error:1.194\n",
            "Epoch:2   Loss:1.081   Val error:1.113   Best val error:1.113\n",
            "Epoch:3   Loss:1.007   Val error:1.099   Best val error:1.099\n",
            "Epoch:4   Loss:0.944   Val error:1.134   Best val error:1.099\n",
            "Epoch:5   Loss:0.903   Val error:1.061   Best val error:1.061\n",
            "Epoch:6   Loss:0.861   Val error:1.059   Best val error:1.059\n",
            "Epoch:7   Loss:0.83   Val error:1.111   Best val error:1.059\n",
            "Epoch:8   Loss:0.794   Val error:1.09   Best val error:1.059\n",
            "Epoch:9   Loss:0.769   Val error:1.044   Best val error:1.044\n",
            "Epoch:10   Loss:0.747   Val error:1.057   Best val error:1.044\n",
            "Epoch:11   Loss:0.724   Val error:1.048   Best val error:1.044\n",
            "Epoch:12   Loss:0.706   Val error:1.083   Best val error:1.044\n",
            "Epoch:13   Loss:0.693   Val error:1.075   Best val error:1.044\n",
            "Epoch:14   Loss:0.661   Val error:1.033   Best val error:1.033\n",
            "Epoch:15   Loss:0.662   Val error:1.053   Best val error:1.033\n",
            "Epoch:16   Loss:0.637   Val error:1.056   Best val error:1.033\n",
            "Epoch:17   Loss:0.625   Val error:1.097   Best val error:1.033\n",
            "Epoch:18   Loss:0.606   Val error:1.15   Best val error:1.033\n",
            "Epoch:19   Loss:0.592   Val error:1.066   Best val error:1.033\n"
          ],
          "name": "stdout"
        },
        {
          "output_type": "display_data",
          "data": {
            "image/png": "[encoded data removed]",
            "text/plain": [
              "<Figure size 432x288 with 1 Axes>"
            ]
          },
          "metadata": {
            "tags": [],
            "needs_background": "light"
          }
        },
        {
          "output_type": "stream",
          "text": [
            "Best epoch: 14\n"
          ],
          "name": "stdout"
        }
      ]
    },
    {
      "cell_type": "markdown",
      "metadata": {
        "id": "079ecWiEfwmB"
      },
      "source": [
        "From the graph we can see that after 6th epoch the train loss decreases but validation loss starts increasing. It means at this point the model starts to overfit the train data and is not able to generalize well"
      ]
    },
    {
      "cell_type": "code",
      "metadata": {
        "colab": {
          "base_uri": "https://localhost:8080/"
        },
        "id": "ZHzTZyWNk80y",
        "outputId": "8aebee80-efcd-4a29-cdff-9837bc628281"
      },
      "source": [
        "base_acc = test_model(device, CNN_base, 'q1_ckpt_CNN_base_best', test_dataset)\n",
        "print('Test accuracy:',base_acc,'%')"
      ],
      "execution_count": null,
      "outputs": [
        {
          "output_type": "stream",
          "text": [
            "CNN_base(\n",
            "  (convLayers): Sequential(\n",
            "    (0): Conv2d(3, 64, kernel_size=(3, 3), stride=(1, 1), padding=(1, 1))\n",
            "    (1): BatchNorm2d(64, eps=1e-05, momentum=0.1, affine=True, track_running_stats=True)\n",
            "    (2): ReLU(inplace=True)\n",
            "    (3): MaxPool2d(kernel_size=2, stride=2, padding=0, dilation=1, ceil_mode=False)\n",
            "  )\n",
            "  (denseLayers): Sequential(\n",
            "    (0): Linear(in_features=16384, out_features=10, bias=True)\n",
            "  )\n",
            ")\n",
            "Test accuracy: 65.96 %\n"
          ],
          "name": "stdout"
        }
      ]
    },
    {
      "cell_type": "markdown",
      "metadata": {
        "id": "gFL9Qm-Qlk9n"
      },
      "source": [
        "# A) Without BatchNorm\n",
        "--> 1 block of : Conv2D -> MaxPooling2D  \n",
        "--> 1 dense layer  \n",
        "--> ReLU activations"
      ]
    },
    {
      "cell_type": "code",
      "metadata": {
        "id": "GkB4FzVDlkb7"
      },
      "source": [
        "class CNN_a(nn.Module):\n",
        "    def __init__(self):\n",
        "        super(CNN_a, self).__init__()\n",
        "        self.convLayers = nn.Sequential(\n",
        "            # block 1\n",
        "            nn.Conv2d(in_channels=3, out_channels=64, kernel_size=3, padding=1),\n",
        "            nn.ReLU(inplace=True),\n",
        "            nn.MaxPool2d(kernel_size=2, stride=2) # 16x16x64 = 16384\n",
        "        )\n",
        "        self.denseLayers = nn.Sequential(\n",
        "            nn.Linear(16384, 10)\n",
        "        )\n",
        "\n",
        "    def forward(self,x):\n",
        "        x = self.convLayers(x)\n",
        "        x = torch.flatten(x, start_dim=1)\n",
        "        # print('after conv',x.shape)\n",
        "        x = self.denseLayers(x)\n",
        "        return x"
      ],
      "execution_count": null,
      "outputs": []
    },
    {
      "cell_type": "code",
      "metadata": {
        "colab": {
          "base_uri": "https://localhost:8080/",
          "height": 669
        },
        "id": "jSzkf138mEKS",
        "outputId": "9f8f147e-bbf8-424a-a7d6-edafd43b8bbe"
      },
      "source": [
        "cnna_trainer = CNN_Trainer(device, CNN_a, 'CNN_a', lr=0.001)\n",
        "a_best_epoch, a_losses, a_errors = cnna_trainer.train()\n",
        "plot_train(a_losses, a_errors)\n",
        "print('Best epoch:',a_best_epoch)"
      ],
      "execution_count": null,
      "outputs": [
        {
          "output_type": "stream",
          "text": [
            "cuda Tesla T4\n",
            "Epoch:0   Loss:1.785   Val error:1.613   Best val error:1.613\n",
            "Epoch:1   Loss:1.549   Val error:1.479   Best val error:1.479\n",
            "Epoch:2   Loss:1.425   Val error:1.4   Best val error:1.4\n",
            "Epoch:3   Loss:1.344   Val error:1.333   Best val error:1.333\n",
            "Epoch:4   Loss:1.287   Val error:1.291   Best val error:1.291\n",
            "Epoch:5   Loss:1.245   Val error:1.266   Best val error:1.266\n",
            "Epoch:6   Loss:1.209   Val error:1.229   Best val error:1.229\n",
            "Epoch:7   Loss:1.183   Val error:1.211   Best val error:1.211\n",
            "Epoch:8   Loss:1.156   Val error:1.194   Best val error:1.194\n",
            "Epoch:9   Loss:1.133   Val error:1.185   Best val error:1.185\n",
            "Epoch:10   Loss:1.115   Val error:1.163   Best val error:1.163\n",
            "Epoch:11   Loss:1.097   Val error:1.155   Best val error:1.155\n",
            "Epoch:12   Loss:1.079   Val error:1.138   Best val error:1.138\n",
            "Epoch:13   Loss:1.062   Val error:1.128   Best val error:1.128\n",
            "Epoch:14   Loss:1.045   Val error:1.126   Best val error:1.126\n",
            "Epoch:15   Loss:1.03   Val error:1.111   Best val error:1.111\n",
            "Epoch:16   Loss:1.014   Val error:1.099   Best val error:1.099\n",
            "Epoch:17   Loss:0.999   Val error:1.1   Best val error:1.099\n",
            "Epoch:18   Loss:0.986   Val error:1.078   Best val error:1.078\n",
            "Epoch:19   Loss:0.972   Val error:1.076   Best val error:1.076\n"
          ],
          "name": "stdout"
        },
        {
          "output_type": "display_data",
          "data": {
            "image/png": "[encoded data removed]",
            "text/plain": [
              "<Figure size 432x288 with 1 Axes>"
            ]
          },
          "metadata": {
            "tags": [],
            "needs_background": "light"
          }
        },
        {
          "output_type": "stream",
          "text": [
            "Best epoch: 19\n"
          ],
          "name": "stdout"
        }
      ]
    },
    {
      "cell_type": "code",
      "metadata": {
        "colab": {
          "base_uri": "https://localhost:8080/"
        },
        "id": "ZhPgOCgNmW1_",
        "outputId": "58b720bf-d6c7-446f-d334-53f5bdda4cb4"
      },
      "source": [
        "a_acc = test_model(device, CNN_a, 'q1_ckpt_CNN_a_best', test_dataset)\n",
        "print('Test accuracy:',a_acc,'%')"
      ],
      "execution_count": null,
      "outputs": [
        {
          "output_type": "stream",
          "text": [
            "CNN_a(\n",
            "  (convLayers): Sequential(\n",
            "    (0): Conv2d(3, 64, kernel_size=(3, 3), stride=(1, 1), padding=(1, 1))\n",
            "    (1): ReLU(inplace=True)\n",
            "    (2): MaxPool2d(kernel_size=2, stride=2, padding=0, dilation=1, ceil_mode=False)\n",
            "  )\n",
            "  (denseLayers): Sequential(\n",
            "    (0): Linear(in_features=16384, out_features=10, bias=True)\n",
            "  )\n",
            ")\n",
            "Test accuracy: 62.7 %\n"
          ],
          "name": "stdout"
        }
      ]
    },
    {
      "cell_type": "markdown",
      "metadata": {
        "id": "DI4g7sjMiHF5"
      },
      "source": [
        "We can see that both train and validation loss are higher than the ones using batch-normalization. This is because of the presence of internal covariate shift (input ot the model is slightly different every time as batches are random samples of train dataset).  \n",
        "The benefits of batch-normalization are:  \n",
        "--> It ensures that the inputs have a mean of 0 and a standard deviation of 1, meaning that the input distribution to every neuron will be the same, thereby fixing the problem of internal covariate shift and providing regularisation.  \n",
        "--> It prevents vanishing and exploding gradients by ensuring that no weight has gone too high or low.  \n",
        "--> It has a regularising effect since it adds noise to the inputs of every layer thus discouraging overfitting.\n"
      ]
    },
    {
      "cell_type": "markdown",
      "metadata": {
        "id": "hTcHGJKQm28C"
      },
      "source": [
        "# B) 2 dense layers  \n",
        "--> 1 block of : Conv2D -> BatchNorm2D -> MaxPooling2D  \n",
        "--> 2 dense layers  \n",
        "--> ReLU activations  \n",
        "--> Learning rate decay (if val loss increases)"
      ]
    },
    {
      "cell_type": "code",
      "metadata": {
        "id": "SODRNI6Ym_GJ"
      },
      "source": [
        "class CNN_b(nn.Module):\n",
        "    def __init__(self):\n",
        "        super(CNN_b, self).__init__()\n",
        "        self.convLayers = nn.Sequential(\n",
        "            # block 1\n",
        "            nn.Conv2d(in_channels=3, out_channels=64, kernel_size=3, padding=1),\n",
        "            nn.BatchNorm2d(64),\n",
        "            nn.ReLU(inplace=True),\n",
        "            nn.MaxPool2d(kernel_size=2, stride=2) #16384\n",
        "        )\n",
        "        self.denseLayers = nn.Sequential(\n",
        "            nn.Linear(16384, 64),\n",
        "            nn.ReLU(inplace=True),\n",
        "            nn.Linear(64, 10),\n",
        "        )\n",
        "\n",
        "    def forward(self,x):\n",
        "        x = self.convLayers(x)\n",
        "        x = torch.flatten(x, start_dim=1)\n",
        "        # print('after conv',x.shape)\n",
        "        x = self.denseLayers(x)\n",
        "        return x"
      ],
      "execution_count": null,
      "outputs": []
    },
    {
      "cell_type": "code",
      "metadata": {
        "colab": {
          "base_uri": "https://localhost:8080/",
          "height": 788
        },
        "id": "OjNmaf-Lo9XP",
        "outputId": "b743617e-274f-425a-df26-947d31235efa"
      },
      "source": [
        "cnnb_trainer = CNN_Trainer(device, CNN_b, 'CNN_b', lr=0.001, lr_decay=0.95)\n",
        "b_best_epoch, b_losses, b_errors = cnnb_trainer.train()\n",
        "plot_train(b_losses, b_errors)\n",
        "print('Best epoch:',b_best_epoch)"
      ],
      "execution_count": null,
      "outputs": [
        {
          "output_type": "stream",
          "text": [
            "cuda Tesla T4\n",
            "Epoch:0   Loss:1.58   Val error:1.354   Best val error:1.354\n",
            "Epoch:1   Loss:1.258   Val error:1.217   Best val error:1.217\n",
            "Epoch:2   Loss:1.117   Val error:1.136   Best val error:1.136\n",
            "Epoch:3   Loss:1.027   Val error:1.046   Best val error:1.046\n",
            "Epoch:4   Loss:0.952   Val error:1.04   Best val error:1.04\n",
            "Epoch:5   Loss:0.889   Val error:1.006   Best val error:1.006\n",
            "Epoch:6   Loss:0.844   Val error:1.011   Best val error:1.006\n",
            "Epoch:7   Loss:0.803   Val error:0.988   Best val error:0.988\n",
            "Epoch:8   Loss:0.762   Val error:1.032   Best val error:0.988\n",
            "Epoch:9   Loss:0.724   Val error:0.983   Best val error:0.983\n",
            "Epoch:10   Loss:0.686   Val error:0.953   Best val error:0.953\n",
            "Epoch:11   Loss:0.647   Val error:0.973   Best val error:0.953\n",
            "Epoch:12   Loss:0.614   Val error:0.963   Best val error:0.953\n",
            "Epoch:13   Loss:0.578   Val error:1.049   Best val error:0.953\n",
            "LR adjusted\n",
            "Epoch:14   Loss:0.543   Val error:1.006   Best val error:0.953\n",
            "LR adjusted\n",
            "Epoch:15   Loss:0.506   Val error:0.981   Best val error:0.953\n",
            "LR adjusted\n",
            "Epoch:16   Loss:0.475   Val error:1.014   Best val error:0.953\n",
            "LR adjusted\n",
            "Epoch:17   Loss:0.443   Val error:1.017   Best val error:0.953\n",
            "LR adjusted\n",
            "Epoch:18   Loss:0.414   Val error:1.02   Best val error:0.953\n",
            "LR adjusted\n",
            "Epoch:19   Loss:0.383   Val error:1.03   Best val error:0.953\n",
            "LR adjusted\n"
          ],
          "name": "stdout"
        },
        {
          "output_type": "display_data",
          "data": {
            "image/png": "[encoded data removed]",
            "text/plain": [
              "<Figure size 432x288 with 1 Axes>"
            ]
          },
          "metadata": {
            "tags": [],
            "needs_background": "light"
          }
        },
        {
          "output_type": "stream",
          "text": [
            "Best epoch: 10\n"
          ],
          "name": "stdout"
        }
      ]
    },
    {
      "cell_type": "code",
      "metadata": {
        "colab": {
          "base_uri": "https://localhost:8080/"
        },
        "id": "IQA7q1yipBYa",
        "outputId": "0d592e2d-2c43-4cf1-e7b1-c617cf52e2c5"
      },
      "source": [
        "b_acc = test_model(device, CNN_b, 'q1_ckpt_CNN_b_best', test_dataset)\n",
        "print('Test accuracy:',b_acc,'%')"
      ],
      "execution_count": null,
      "outputs": [
        {
          "output_type": "stream",
          "text": [
            "CNN_b(\n",
            "  (convLayers): Sequential(\n",
            "    (0): Conv2d(3, 64, kernel_size=(3, 3), stride=(1, 1), padding=(1, 1))\n",
            "    (1): BatchNorm2d(64, eps=1e-05, momentum=0.1, affine=True, track_running_stats=True)\n",
            "    (2): ReLU(inplace=True)\n",
            "    (3): MaxPool2d(kernel_size=2, stride=2, padding=0, dilation=1, ceil_mode=False)\n",
            "  )\n",
            "  (denseLayers): Sequential(\n",
            "    (0): Linear(in_features=16384, out_features=64, bias=True)\n",
            "    (1): ReLU(inplace=True)\n",
            "    (2): Linear(in_features=64, out_features=10, bias=True)\n",
            "  )\n",
            ")\n",
            "Test accuracy: 67.35 %\n"
          ],
          "name": "stdout"
        }
      ]
    },
    {
      "cell_type": "markdown",
      "metadata": {
        "id": "i-6ePH0cmMcb"
      },
      "source": [
        "We can see that adding a dense layer increased the accuracy of the network as it is now able to learn with more weights"
      ]
    },
    {
      "cell_type": "markdown",
      "metadata": {
        "id": "NBiVF_O9cVAc"
      },
      "source": [
        "# C) 2 blocks of : Conv2D -> BatchNorm2D-> MaxPooling2D  \n",
        "--> 2 blocks of : Conv2D -> BatchNorm2D -> MaxPooling2D  \n",
        "--> 2 dense layers  \n",
        "--> ReLU activations  \n",
        "--> Dropout  \n",
        "--> Learning rate decay (if val loss increases)  \n",
        "--> Regularization (weight decay)"
      ]
    },
    {
      "cell_type": "code",
      "metadata": {
        "id": "DV2F-hyguX2w"
      },
      "source": [
        "class CNN_c(nn.Module):\n",
        "    def __init__(self):\n",
        "        super(CNN_c, self).__init__()\n",
        "        self.convLayers = nn.Sequential(\n",
        "            # block 1\n",
        "            nn.Conv2d(in_channels=3, out_channels=32, kernel_size=5, padding=2),\n",
        "            nn.BatchNorm2d(32),\n",
        "            nn.ReLU(inplace=True),\n",
        "            nn.Dropout(0.1),\n",
        "            nn.MaxPool2d(kernel_size=2, stride=2),\n",
        "\n",
        "            # block 2\n",
        "            nn.Conv2d(in_channels=32, out_channels=64, kernel_size=3, padding=1),\n",
        "            nn.BatchNorm2d(64),\n",
        "            nn.ReLU(inplace=True),\n",
        "            nn.Dropout(0.1),\n",
        "            nn.MaxPool2d(kernel_size=2, stride=2) # 8x8x64\n",
        "        )\n",
        "        self.denseLayers = nn.Sequential(\n",
        "            nn.Dropout(0.1),\n",
        "            nn.Linear(4096, 512),\n",
        "            nn.ReLU(inplace=True),\n",
        "            nn.Linear(512, 10),\n",
        "        )\n",
        "\n",
        "    def forward(self,x):\n",
        "        x = self.convLayers(x)\n",
        "        x = torch.flatten(x, start_dim=1)\n",
        "        # print('after conv',x.shape)\n",
        "        x = self.denseLayers(x)\n",
        "        return x"
      ],
      "execution_count": null,
      "outputs": []
    },
    {
      "cell_type": "code",
      "metadata": {
        "colab": {
          "base_uri": "https://localhost:8080/",
          "height": 686
        },
        "id": "mZ0gwRqJb2hQ",
        "outputId": "9fb761f2-ea12-40af-f513-c1f12bdadebf"
      },
      "source": [
        "cnnc_trainer = CNN_Trainer(device, CNN_c, 'CNN_c', lr=0.001, lr_decay=0.95, weight_decay=1e-4)\n",
        "c_best_epoch, c_losses, c_errors = cnnc_trainer.train()\n",
        "plot_train(c_losses, c_errors)\n",
        "print('Best epoch:',c_best_epoch)"
      ],
      "execution_count": null,
      "outputs": [
        {
          "output_type": "stream",
          "text": [
            "cuda Tesla T4\n",
            "Epoch:0   Loss:1.575   Val error:1.341   Best val error:1.341\n",
            "Epoch:1   Loss:1.208   Val error:1.17   Best val error:1.17\n",
            "Epoch:2   Loss:1.066   Val error:1.074   Best val error:1.074\n",
            "Epoch:3   Loss:0.986   Val error:0.997   Best val error:0.997\n",
            "Epoch:4   Loss:0.928   Val error:0.971   Best val error:0.971\n",
            "Epoch:5   Loss:0.882   Val error:0.945   Best val error:0.945\n",
            "Epoch:6   Loss:0.846   Val error:0.89   Best val error:0.89\n",
            "Epoch:7   Loss:0.801   Val error:0.864   Best val error:0.864\n",
            "Epoch:8   Loss:0.77   Val error:0.842   Best val error:0.842\n",
            "Epoch:9   Loss:0.737   Val error:0.817   Best val error:0.817\n",
            "Epoch:10   Loss:0.705   Val error:0.816   Best val error:0.816\n",
            "Epoch:11   Loss:0.678   Val error:0.822   Best val error:0.816\n",
            "Epoch:12   Loss:0.646   Val error:0.792   Best val error:0.792\n",
            "Epoch:13   Loss:0.619   Val error:0.79   Best val error:0.79\n",
            "Epoch:14   Loss:0.595   Val error:0.749   Best val error:0.749\n",
            "Epoch:15   Loss:0.569   Val error:0.742   Best val error:0.742\n",
            "Epoch:16   Loss:0.545   Val error:0.725   Best val error:0.725\n",
            "Epoch:17   Loss:0.52   Val error:0.727   Best val error:0.725\n",
            "Epoch:18   Loss:0.501   Val error:0.75   Best val error:0.725\n",
            "Epoch:19   Loss:0.48   Val error:0.728   Best val error:0.725\n",
            "LR adjusted\n"
          ],
          "name": "stdout"
        },
        {
          "output_type": "display_data",
          "data": {
            "image/png": "[encoded data removed]",
            "text/plain": [
              "<Figure size 432x288 with 1 Axes>"
            ]
          },
          "metadata": {
            "tags": [],
            "needs_background": "light"
          }
        },
        {
          "output_type": "stream",
          "text": [
            "Best epoch: 16\n"
          ],
          "name": "stdout"
        }
      ]
    },
    {
      "cell_type": "code",
      "metadata": {
        "colab": {
          "base_uri": "https://localhost:8080/"
        },
        "id": "QOSRda5ZSzAE",
        "outputId": "56d8e388-7213-4dee-f76f-88447fe0b7f0"
      },
      "source": [
        "# model = CNN_a().cuda()\n",
        "c_acc = test_model(device, CNN_c, 'q1_ckpt_CNN_c_best', test_dataset)\n",
        "print('Test accuracy:',c_acc,'%')"
      ],
      "execution_count": null,
      "outputs": [
        {
          "output_type": "stream",
          "text": [
            "CNN_c(\n",
            "  (convLayers): Sequential(\n",
            "    (0): Conv2d(3, 32, kernel_size=(5, 5), stride=(1, 1), padding=(2, 2))\n",
            "    (1): BatchNorm2d(32, eps=1e-05, momentum=0.1, affine=True, track_running_stats=True)\n",
            "    (2): ReLU(inplace=True)\n",
            "    (3): Dropout(p=0.1, inplace=False)\n",
            "    (4): MaxPool2d(kernel_size=2, stride=2, padding=0, dilation=1, ceil_mode=False)\n",
            "    (5): Conv2d(32, 64, kernel_size=(3, 3), stride=(1, 1), padding=(1, 1))\n",
            "    (6): BatchNorm2d(64, eps=1e-05, momentum=0.1, affine=True, track_running_stats=True)\n",
            "    (7): ReLU(inplace=True)\n",
            "    (8): Dropout(p=0.1, inplace=False)\n",
            "    (9): MaxPool2d(kernel_size=2, stride=2, padding=0, dilation=1, ceil_mode=False)\n",
            "  )\n",
            "  (denseLayers): Sequential(\n",
            "    (0): Dropout(p=0.1, inplace=False)\n",
            "    (1): Linear(in_features=4096, out_features=512, bias=True)\n",
            "    (2): ReLU(inplace=True)\n",
            "    (3): Linear(in_features=512, out_features=10, bias=True)\n",
            "  )\n",
            ")\n",
            "Test accuracy: 74.7 %\n"
          ],
          "name": "stdout"
        }
      ]
    },
    {
      "cell_type": "markdown",
      "metadata": {
        "id": "xqU5Paadmu6p"
      },
      "source": [
        "We can see there is a large increase in the accuracy of the model after adding dropout layers. Also the train loss decreases slightly slower than before. This is because dropout randomly deactivates some neurons of a layer, thus nullifying their contribution to the output. This prevents neurons to be dependant on each other or only on specific features. This avoids overfitting the training data and hence increases the generalization power of the network."
      ]
    },
    {
      "cell_type": "markdown",
      "metadata": {
        "id": "0BElTUhppkTT"
      },
      "source": [
        "# D) 3 blocks of : Conv2D -> BatchNorm2D-> MaxPooling2D  \n",
        "--> 3 blocks of : Conv2D -> BatchNorm2D -> MaxPooling2D  \n",
        "--> 2 dense layers  \n",
        "--> LeakyReLU activations  \n",
        "--> Dropout  \n",
        "--> Learning rate decay (if val loss does not reduce)  \n",
        "--> Regularization (weight decay)"
      ]
    },
    {
      "cell_type": "code",
      "metadata": {
        "id": "vta4R_QBptin"
      },
      "source": [
        "class CNN_d(nn.Module):\n",
        "    def __init__(self):\n",
        "        super(CNN_d, self).__init__()\n",
        "        self.convLayers = nn.Sequential(\n",
        "            # block 1\n",
        "            # block 1\n",
        "            nn.Conv2d(in_channels=3, out_channels=32, kernel_size=5, padding=2),\n",
        "            nn.BatchNorm2d(32),\n",
        "            nn.LeakyReLU(0.1,inplace=True),\n",
        "            nn.Dropout(0.1),\n",
        "            nn.MaxPool2d(kernel_size=2, stride=2),\n",
        "\n",
        "            # block 2\n",
        "            nn.Conv2d(in_channels=32, out_channels=64, kernel_size=3, padding=1),\n",
        "            nn.BatchNorm2d(64),\n",
        "            nn.LeakyReLU(0.1,inplace=True),\n",
        "            nn.Dropout(0.1),\n",
        "            nn.MaxPool2d(kernel_size=2, stride=2), # 8x8x64\n",
        "\n",
        "            # block 3\n",
        "            nn.Conv2d(in_channels=64, out_channels=128, kernel_size=3, padding=1),\n",
        "            nn.BatchNorm2d(128),\n",
        "            nn.LeakyReLU(0.1,inplace=True),\n",
        "            nn.Dropout(0.1),\n",
        "            nn.MaxPool2d(kernel_size=2, stride=2) # 4x4x128\n",
        "        )\n",
        "        self.denseLayers = nn.Sequential(\n",
        "            nn.Dropout(0.1),\n",
        "            nn.Linear(2048, 512),\n",
        "            nn.LeakyReLU(0.1,inplace=True),\n",
        "            nn.Linear(512, 10),\n",
        "        )\n",
        "\n",
        "    def forward(self,x):\n",
        "        x = self.convLayers(x)\n",
        "        x = torch.flatten(x, start_dim=1)\n",
        "        # print('after conv',x.shape)\n",
        "        x = self.denseLayers(x)\n",
        "        return x"
      ],
      "execution_count": null,
      "outputs": []
    },
    {
      "cell_type": "code",
      "metadata": {
        "colab": {
          "base_uri": "https://localhost:8080/",
          "height": 720
        },
        "id": "DxLjiA53fpRT",
        "outputId": "b930d3c1-afa8-411f-90fb-5bb454b87ab1"
      },
      "source": [
        "cnnd_trainer = CNN_Trainer(device, CNN_d, 'CNN_d', lr=0.01, epochs=20, lr_decay=0.95, weight_decay=1e-4)\n",
        "d_best_epoch, d_losses, d_errors = cnnd_trainer.train()\n",
        "plot_train(d_losses, d_errors)\n",
        "print('Best epoch:',d_best_epoch)"
      ],
      "execution_count": null,
      "outputs": [
        {
          "output_type": "stream",
          "text": [
            "cuda Tesla T4\n",
            "Epoch:0   Loss:1.305   Val error:1.159   Best val error:1.159\n",
            "Epoch:1   Loss:0.928   Val error:0.873   Best val error:0.873\n",
            "Epoch:2   Loss:0.785   Val error:0.898   Best val error:0.873\n",
            "Epoch:3   Loss:0.693   Val error:0.761   Best val error:0.761\n",
            "Epoch:4   Loss:0.611   Val error:0.728   Best val error:0.728\n",
            "Epoch:5   Loss:0.552   Val error:0.773   Best val error:0.728\n",
            "Epoch:6   Loss:0.493   Val error:0.699   Best val error:0.699\n",
            "Epoch:7   Loss:0.455   Val error:0.629   Best val error:0.629\n",
            "Epoch:8   Loss:0.406   Val error:0.653   Best val error:0.629\n",
            "Epoch:9   Loss:0.361   Val error:0.707   Best val error:0.629\n",
            "Epoch:10   Loss:0.326   Val error:0.704   Best val error:0.629\n",
            "LR adjusted\n",
            "Epoch:11   Loss:0.289   Val error:0.615   Best val error:0.615\n",
            "Epoch:12   Loss:0.261   Val error:0.608   Best val error:0.608\n",
            "Epoch:13   Loss:0.237   Val error:0.655   Best val error:0.608\n",
            "Epoch:14   Loss:0.213   Val error:0.647   Best val error:0.608\n",
            "Epoch:15   Loss:0.186   Val error:0.634   Best val error:0.608\n",
            "LR adjusted\n",
            "Epoch:16   Loss:0.161   Val error:0.616   Best val error:0.608\n",
            "LR adjusted\n",
            "Epoch:17   Loss:0.136   Val error:0.601   Best val error:0.601\n",
            "Epoch:18   Loss:0.126   Val error:0.654   Best val error:0.601\n",
            "Epoch:19   Loss:0.116   Val error:0.649   Best val error:0.601\n"
          ],
          "name": "stdout"
        },
        {
          "output_type": "display_data",
          "data": {
            "image/png": "[encoded data removed]",
            "text/plain": [
              "<Figure size 432x288 with 1 Axes>"
            ]
          },
          "metadata": {
            "tags": [],
            "needs_background": "light"
          }
        },
        {
          "output_type": "stream",
          "text": [
            "Best epoch: 17\n"
          ],
          "name": "stdout"
        }
      ]
    },
    {
      "cell_type": "code",
      "metadata": {
        "colab": {
          "base_uri": "https://localhost:8080/"
        },
        "id": "Eh09LJe_tR0n",
        "outputId": "33dc8b57-6b30-4143-eec6-8d6d040e96a8"
      },
      "source": [
        "d_acc = test_model(device, CNN_d, 'q1_ckpt_CNN_d_best', test_dataset)\n",
        "print('Test accuracy:',d_acc,'%')"
      ],
      "execution_count": null,
      "outputs": [
        {
          "output_type": "stream",
          "text": [
            "CNN_d(\n",
            "  (convLayers): Sequential(\n",
            "    (0): Conv2d(3, 32, kernel_size=(5, 5), stride=(1, 1), padding=(2, 2))\n",
            "    (1): BatchNorm2d(32, eps=1e-05, momentum=0.1, affine=True, track_running_stats=True)\n",
            "    (2): LeakyReLU(negative_slope=0.1, inplace=True)\n",
            "    (3): Dropout(p=0.1, inplace=False)\n",
            "    (4): MaxPool2d(kernel_size=2, stride=2, padding=0, dilation=1, ceil_mode=False)\n",
            "    (5): Conv2d(32, 64, kernel_size=(3, 3), stride=(1, 1), padding=(1, 1))\n",
            "    (6): BatchNorm2d(64, eps=1e-05, momentum=0.1, affine=True, track_running_stats=True)\n",
            "    (7): LeakyReLU(negative_slope=0.1, inplace=True)\n",
            "    (8): Dropout(p=0.1, inplace=False)\n",
            "    (9): MaxPool2d(kernel_size=2, stride=2, padding=0, dilation=1, ceil_mode=False)\n",
            "    (10): Conv2d(64, 128, kernel_size=(3, 3), stride=(1, 1), padding=(1, 1))\n",
            "    (11): BatchNorm2d(128, eps=1e-05, momentum=0.1, affine=True, track_running_stats=True)\n",
            "    (12): LeakyReLU(negative_slope=0.1, inplace=True)\n",
            "    (13): Dropout(p=0.1, inplace=False)\n",
            "    (14): MaxPool2d(kernel_size=2, stride=2, padding=0, dilation=1, ceil_mode=False)\n",
            "  )\n",
            "  (denseLayers): Sequential(\n",
            "    (0): Dropout(p=0.1, inplace=False)\n",
            "    (1): Linear(in_features=2048, out_features=512, bias=True)\n",
            "    (2): LeakyReLU(negative_slope=0.1, inplace=True)\n",
            "    (3): Linear(in_features=512, out_features=10, bias=True)\n",
            "  )\n",
            ")\n",
            "Test accuracy: 81.6 %\n"
          ],
          "name": "stdout"
        }
      ]
    },
    {
      "cell_type": "markdown",
      "metadata": {
        "id": "ONtaAkeBtIht"
      },
      "source": [
        "We can see that adding a convolutional block increased the accuracy of the network as it is now able to learn with more weights. Also regularization (weight decay) discourages learning a more complex or flexible model, so as to avoid the risk of overfitting."
      ]
    },
    {
      "cell_type": "markdown",
      "metadata": {
        "id": "CaN_gFRrOYKE"
      },
      "source": [
        "# E) Random horizontal flipping of images & model weights initialization using Xavier's Normal\n",
        "--> 3 blocks of : Conv2D -> BatchNorm2D -> MaxPooling2D  \n",
        "--> 1 dense layer  \n",
        "--> LeakyReLU activations  \n",
        "--> Dropout  \n",
        "--> Learning rate decay (if val loss increases)  \n",
        "--> Regularization (weight decay)  \n",
        "--> Model weights initialization using Xavier's Normal  \n",
        "--> Random horizontal flipping of images"
      ]
    },
    {
      "cell_type": "code",
      "metadata": {
        "id": "KA9LClduOk10"
      },
      "source": [
        "class CNN_e(nn.Module):\n",
        "    def __init__(self):\n",
        "        super(CNN_e, self).__init__()\n",
        "        self.convLayers = nn.Sequential(\n",
        "            # block 1\n",
        "            nn.Conv2d(in_channels=3, out_channels=32, kernel_size=5, padding=2),\n",
        "            nn.BatchNorm2d(32),\n",
        "            nn.LeakyReLU(0.1,inplace=True),\n",
        "            nn.Dropout(0.1),\n",
        "            nn.MaxPool2d(kernel_size=2, stride=2),\n",
        "\n",
        "            # block 2\n",
        "            nn.Conv2d(in_channels=32, out_channels=64, kernel_size=3, padding=1),\n",
        "            nn.BatchNorm2d(64),\n",
        "            nn.LeakyReLU(0.1,inplace=True),\n",
        "            nn.Dropout(0.1),\n",
        "            nn.MaxPool2d(kernel_size=2, stride=2),\n",
        "\n",
        "            # block 3\n",
        "            nn.Conv2d(in_channels=64, out_channels=128, kernel_size=3, padding=1),\n",
        "            nn.BatchNorm2d(128),\n",
        "            nn.LeakyReLU(0.1,inplace=True),\n",
        "            nn.Dropout(0.1),\n",
        "            nn.MaxPool2d(kernel_size=2, stride=2) # 4x4x128\n",
        "        )\n",
        "        self.denseLayers = nn.Sequential(\n",
        "            nn.Dropout(0.1),\n",
        "            nn.Linear(2048, 512),\n",
        "            nn.LeakyReLU(0.1,inplace=True),\n",
        "            nn.Linear(512, 10),\n",
        "        )\n",
        "        self._initialize_weights()\n",
        "\n",
        "    def forward(self,x):\n",
        "        x = self.convLayers(x)\n",
        "        x = torch.flatten(x, start_dim=1)\n",
        "        # print('after conv',x.shape)\n",
        "        x = self.denseLayers(x)\n",
        "        return x\n",
        "\n",
        "    def _initialize_weights(self):\n",
        "        for m in self.modules():\n",
        "            if isinstance(m, nn.Conv2d) or isinstance(m, nn.Linear):\n",
        "                torch.nn.init.xavier_normal_(m.weight)\n",
        "                if m.bias is not None:\n",
        "                    nn.init.constant_(m.bias, 0)\n",
        "            elif isinstance(m, nn.BatchNorm2d):\n",
        "                nn.init.constant_(m.weight, 1)\n",
        "                nn.init.constant_(m.bias, 0)"
      ],
      "execution_count": null,
      "outputs": []
    },
    {
      "cell_type": "code",
      "metadata": {
        "colab": {
          "base_uri": "https://localhost:8080/"
        },
        "id": "YZ8hujsFO68q",
        "outputId": "122b9278-5e14-4abb-cd6b-3f0ced4709f4"
      },
      "source": [
        "transform2 = transforms.Compose([transforms.RandomHorizontalFlip(),\n",
        "        transforms.ToTensor(),\n",
        "        transforms.Normalize([0.485, 0.456, 0.406], [0.229, 0.224, 0.225])])\n",
        "os.makedirs(\"data/cifar\", exist_ok=True)\n",
        "train_dataset2 = CIFAR10(root='data/cifar', download=True, transform=transform2)\n",
        "test_dataset2 = CIFAR10(root='data/cifar', train=False, transform=transform2)\n",
        "print(len(train_dataset2), len(test_dataset2))"
      ],
      "execution_count": null,
      "outputs": [
        {
          "output_type": "stream",
          "text": [
            "Files already downloaded and verified\n",
            "50000 10000\n"
          ],
          "name": "stdout"
        }
      ]
    },
    {
      "cell_type": "code",
      "metadata": {
        "colab": {
          "base_uri": "https://localhost:8080/",
          "height": 992
        },
        "id": "QHJq5wbhTx6N",
        "outputId": "ba25aafc-7a4d-4431-9e9b-204e9dd1aba9"
      },
      "source": [
        "cnne_trainer = CNN_Trainer(device, CNN_e, 'CNN_e', lr=0.01,  epochs=30, lr_decay=0.95, weight_decay=1e-4, trainset=train_dataset2, valset=test_dataset2)\n",
        "e_best_epoch, e_losses, e_errors = cnne_trainer.train()\n",
        "plot_train(e_losses, e_errors)\n",
        "print('Best epoch:',e_best_epoch)"
      ],
      "execution_count": null,
      "outputs": [
        {
          "output_type": "stream",
          "text": [
            "cuda Tesla T4\n",
            "Epoch:0   Loss:1.367   Val error:1.153   Best val error:1.153\n",
            "Epoch:1   Loss:0.997   Val error:0.968   Best val error:0.968\n",
            "Epoch:2   Loss:0.847   Val error:0.869   Best val error:0.869\n",
            "Epoch:3   Loss:0.757   Val error:0.822   Best val error:0.822\n",
            "Epoch:4   Loss:0.703   Val error:0.883   Best val error:0.822\n",
            "Epoch:5   Loss:0.641   Val error:0.728   Best val error:0.728\n",
            "Epoch:6   Loss:0.608   Val error:0.662   Best val error:0.662\n",
            "Epoch:7   Loss:0.562   Val error:0.639   Best val error:0.639\n",
            "Epoch:8   Loss:0.533   Val error:0.625   Best val error:0.625\n",
            "Epoch:9   Loss:0.499   Val error:0.645   Best val error:0.625\n",
            "Epoch:10   Loss:0.48   Val error:0.605   Best val error:0.605\n",
            "Epoch:11   Loss:0.454   Val error:0.577   Best val error:0.577\n",
            "Epoch:12   Loss:0.427   Val error:0.593   Best val error:0.577\n",
            "Epoch:13   Loss:0.411   Val error:0.643   Best val error:0.577\n",
            "Epoch:14   Loss:0.394   Val error:0.558   Best val error:0.558\n",
            "Epoch:15   Loss:0.372   Val error:0.562   Best val error:0.558\n",
            "Epoch:16   Loss:0.358   Val error:0.597   Best val error:0.558\n",
            "Epoch:17   Loss:0.34   Val error:0.556   Best val error:0.556\n",
            "Epoch:18   Loss:0.319   Val error:0.509   Best val error:0.509\n",
            "Epoch:19   Loss:0.305   Val error:0.55   Best val error:0.509\n",
            "Epoch:20   Loss:0.288   Val error:0.534   Best val error:0.509\n",
            "Epoch:21   Loss:0.277   Val error:0.549   Best val error:0.509\n",
            "LR adjusted\n",
            "Epoch:22   Loss:0.261   Val error:0.554   Best val error:0.509\n",
            "LR adjusted\n",
            "Epoch:23   Loss:0.243   Val error:0.557   Best val error:0.509\n",
            "LR adjusted\n",
            "Epoch:24   Loss:0.224   Val error:0.528   Best val error:0.509\n",
            "LR adjusted\n",
            "Epoch:25   Loss:0.211   Val error:0.554   Best val error:0.509\n",
            "LR adjusted\n",
            "Epoch:26   Loss:0.195   Val error:0.547   Best val error:0.509\n",
            "LR adjusted\n",
            "Epoch:27   Loss:0.187   Val error:0.528   Best val error:0.509\n",
            "LR adjusted\n",
            "Epoch:28   Loss:0.175   Val error:0.523   Best val error:0.509\n",
            "LR adjusted\n",
            "Epoch:29   Loss:0.165   Val error:0.544   Best val error:0.509\n",
            "LR adjusted\n"
          ],
          "name": "stdout"
        },
        {
          "output_type": "display_data",
          "data": {
            "image/png": "[encoded data removed]",
            "text/plain": [
              "<Figure size 432x288 with 1 Axes>"
            ]
          },
          "metadata": {
            "tags": [],
            "needs_background": "light"
          }
        },
        {
          "output_type": "stream",
          "text": [
            "Best epoch: 18\n"
          ],
          "name": "stdout"
        }
      ]
    },
    {
      "cell_type": "code",
      "metadata": {
        "colab": {
          "base_uri": "https://localhost:8080/"
        },
        "id": "6OGUVJI3XZao",
        "outputId": "507691d2-2549-4dfe-a071-0ff71b07dd9a"
      },
      "source": [
        "e_acc = test_model(device, CNN_e, 'q1_ckpt_CNN_e_best', test_dataset2)\n",
        "print('Test accuracy:',e_acc,'%')"
      ],
      "execution_count": null,
      "outputs": [
        {
          "output_type": "stream",
          "text": [
            "CNN_e(\n",
            "  (convLayers): Sequential(\n",
            "    (0): Conv2d(3, 32, kernel_size=(5, 5), stride=(1, 1), padding=(2, 2))\n",
            "    (1): BatchNorm2d(32, eps=1e-05, momentum=0.1, affine=True, track_running_stats=True)\n",
            "    (2): LeakyReLU(negative_slope=0.1, inplace=True)\n",
            "    (3): Dropout(p=0.1, inplace=False)\n",
            "    (4): MaxPool2d(kernel_size=2, stride=2, padding=0, dilation=1, ceil_mode=False)\n",
            "    (5): Conv2d(32, 64, kernel_size=(3, 3), stride=(1, 1), padding=(1, 1))\n",
            "    (6): BatchNorm2d(64, eps=1e-05, momentum=0.1, affine=True, track_running_stats=True)\n",
            "    (7): LeakyReLU(negative_slope=0.1, inplace=True)\n",
            "    (8): Dropout(p=0.1, inplace=False)\n",
            "    (9): MaxPool2d(kernel_size=2, stride=2, padding=0, dilation=1, ceil_mode=False)\n",
            "    (10): Conv2d(64, 128, kernel_size=(3, 3), stride=(1, 1), padding=(1, 1))\n",
            "    (11): BatchNorm2d(128, eps=1e-05, momentum=0.1, affine=True, track_running_stats=True)\n",
            "    (12): LeakyReLU(negative_slope=0.1, inplace=True)\n",
            "    (13): Dropout(p=0.1, inplace=False)\n",
            "    (14): MaxPool2d(kernel_size=2, stride=2, padding=0, dilation=1, ceil_mode=False)\n",
            "  )\n",
            "  (denseLayers): Sequential(\n",
            "    (0): Dropout(p=0.1, inplace=False)\n",
            "    (1): Linear(in_features=2048, out_features=512, bias=True)\n",
            "    (2): LeakyReLU(negative_slope=0.1, inplace=True)\n",
            "    (3): Linear(in_features=512, out_features=10, bias=True)\n",
            "  )\n",
            ")\n",
            "Test accuracy: 82.50999999999999 %\n"
          ],
          "name": "stdout"
        }
      ]
    },
    {
      "cell_type": "markdown",
      "metadata": {
        "id": "UrUw_vr2pKL3"
      },
      "source": [
        "We can see there is a significant increase in the accuracy after data augmentation (random horizontal flipping). As data-augmentation increases the variations in the training data, it also takes some more time for the model to train but it improves the performance and ability of the model to generalize. Also weight initialization method serves as a good starting point for initialization and mitigates the chances of exploding or vanishing gradients."
      ]
    },
    {
      "cell_type": "markdown",
      "metadata": {
        "id": "1pe5hB9Pa4XK"
      },
      "source": [
        "### Comparison of accuracies of models : D > C > B > Baseline > A  \n",
        "Details about variations used in the networks are mentioned above"
      ]
    },
    {
      "cell_type": "code",
      "metadata": {
        "colab": {
          "base_uri": "https://localhost:8080/"
        },
        "id": "JHnsIdFSbDPw",
        "outputId": "e7972500-22f3-48e6-c535-d602571d100e"
      },
      "source": [
        "print('D: 3 Conv blocks: ',d_acc)\n",
        "print('C: 2 Conv blocks: ',c_acc)\n",
        "print('B: 2 dense layers: ',b_acc)\n",
        "print('Baseline: ',base_acc)\n",
        "print('A: No batchnorm: ',a_acc)"
      ],
      "execution_count": null,
      "outputs": [
        {
          "output_type": "stream",
          "text": [
            "D: 3 Conv blocks:  81.6\n",
            "C: 2 Conv blocks:  74.7\n",
            "B: 2 dense layers:  67.35\n",
            "Baseline:  65.96\n",
            "A: No batchnorm:  62.7\n"
          ],
          "name": "stdout"
        }
      ]
    }
  ]
}